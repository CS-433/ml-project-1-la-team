{
 "cells": [
  {
   "cell_type": "markdown",
   "metadata": {},
   "source": [
    "# Predictions\n",
    "This is used to run the whole pipeline of preprocessing and make predictions.  \n",
    "It doesn't contain any graphs or analysis tool in order to speed up a full run of the notebook.  "
   ]
  },
  {
   "cell_type": "markdown",
   "metadata": {},
   "source": [
    "## Imports and global variables"
   ]
  },
  {
   "cell_type": "code",
   "execution_count": 13,
   "metadata": {},
   "outputs": [
    {
     "name": "stdout",
     "output_type": "stream",
     "text": [
      "The autoreload extension is already loaded. To reload it, use:\n",
      "  %reload_ext autoreload\n"
     ]
    }
   ],
   "source": [
    "import math\n",
    "import numpy as np\n",
    "import matplotlib.pyplot as plt\n",
    "import sys\n",
    "import csv\n",
    "import sys\n",
    "\n",
    "# import self-defined modules\n",
    "sys.path.append('../')\n",
    "from implementations import *\n",
    "from helpers import *\n",
    "\n",
    "%load_ext autoreload\n",
    "%autoreload 2\n",
    "%matplotlib inline"
   ]
  },
  {
   "cell_type": "code",
   "execution_count": 14,
   "metadata": {},
   "outputs": [],
   "source": [
    "DATA_FOLDER = \"../data/\"\n",
    "TRAIN_FILE = \"train.csv\"\n",
    "TEST_FILE = \"test.csv\"\n",
    "NAN_VALUE = -999.0\n",
    "INTEGER_COLUMN = (\n",
    "    22  # 24 in raw csv file, but 23 when id and prediction column are removed\n",
    ")\n",
    "\n",
    "# For debug purpose only\n",
    "SUB_SAMPLE = False"
   ]
  },
  {
   "cell_type": "markdown",
   "metadata": {},
   "source": [
    "# Import dataset"
   ]
  },
  {
   "cell_type": "code",
   "execution_count": 15,
   "metadata": {},
   "outputs": [
    {
     "name": "stdout",
     "output_type": "stream",
     "text": [
      "x_tr shape : (250000, 30), y_tr shape : (250000,)\n",
      "x_te shape : (568238, 30), y_te shape : (568238,)\n"
     ]
    }
   ],
   "source": [
    "# Load data\n",
    "y_tr,x_tr,_ = load_csv_data(\n",
    "    DATA_FOLDER + TRAIN_FILE, sub_sample=SUB_SAMPLE\n",
    ") \n",
    "y_te, x_te,ids_tests = load_csv_data(DATA_FOLDER + TEST_FILE, sub_sample=SUB_SAMPLE)\n",
    "print(\"x_tr shape : {}, y_tr shape : {}\".format(x_tr.shape, y_tr.shape))\n",
    "print(\"x_te shape : {}, y_te shape : {}\".format(x_te.shape, y_te.shape))\n",
    "\n",
    "# Define missing values as NAN\n",
    "x_tr[x_tr == NAN_VALUE] = np.nan\n",
    "x_te[x_te == NAN_VALUE] = np.nan\n",
    "\n",
    "# Get columns names\n",
    "col_names = []\n",
    "with open(DATA_FOLDER + TRAIN_FILE) as dataset:\n",
    "    col_names = dataset.readline().split(\",\")"
   ]
  },
  {
   "cell_type": "markdown",
   "metadata": {},
   "source": [
    "Initial range of values"
   ]
  },
  {
   "cell_type": "code",
   "execution_count": 16,
   "metadata": {},
   "outputs": [
    {
     "name": "stdout",
     "output_type": "stream",
     "text": [
      "x_tr range :-18.066 4974.979\n",
      "x_te range :-19.012 4794.827\n"
     ]
    }
   ],
   "source": [
    "print(\"x_tr range :{} {}\".format(np.nanmin(x_tr), np.nanmax(x_tr)))\n",
    "print(\"x_te range :{} {}\".format(np.nanmin(x_te), np.nanmax(x_te)))"
   ]
  },
  {
   "cell_type": "markdown",
   "metadata": {},
   "source": [
    "## Pre-processing"
   ]
  },
  {
   "cell_type": "code",
   "execution_count": 17,
   "metadata": {},
   "outputs": [
    {
     "name": "stdout",
     "output_type": "stream",
     "text": [
      "Before pre-processing:\n",
      "x_tr shape : (250000, 30)\n",
      "x_te shape : (568238, 30)\n",
      "x_tr range :-18.066 4974.979\n",
      "x_te range :-19.012 4794.827\n"
     ]
    }
   ],
   "source": [
    "# before pre-processing\n",
    "print(\"Before pre-processing:\")\n",
    "print(\"x_tr shape : {}\".format(x_tr.shape))\n",
    "print(\"x_te shape : {}\".format(x_te.shape))\n",
    "print(\"x_tr range :{} {}\".format(np.nanmin(x_tr), np.nanmax(x_tr)))\n",
    "print(\"x_te range :{} {}\".format(np.nanmin(x_te), np.nanmax(x_te)))"
   ]
  },
  {
   "cell_type": "code",
   "execution_count": 18,
   "metadata": {},
   "outputs": [],
   "source": [
    "# apply log transformation\n",
    "cols_to_log_transform = ['DER_pt_h', 'DER_pt_tot', 'PRI_met', 'PRI_met_sumet']\n",
    "cols_idx = [get_col_idx(col, col_names) for col in cols_to_log_transform]\n",
    "\n",
    "x_tr, x_te = log_transform(x_tr, x_te, cols_idx)\n",
    "\n",
    "# Remove columns with too much NAN\n",
    "x_tr = remove_nan_columns(x_tr, 0.5)\n",
    "x_te = remove_nan_columns(x_te, 0.5)\n",
    "\n",
    "# Replace missing data by the mean\n",
    "# mean_x = np.nanmean(x_tr, axis=0)\n",
    "mean_x = np.nanvar(x_tr, axis=0)\n",
    "x_tr = replace_nan_by_means(x_tr, mean_data=mean_x)\n",
    "x_te = replace_nan_by_means(x_te, mean_data=mean_x)\n",
    "\n",
    "# build poly\n",
    "# x_tr = build_poly(x_tr, 3)\n",
    "# x_te = build_poly(x_te, 3)\n",
    "\n",
    "assert(x_tr[np.isnan(x_tr)].shape[0] == 0)\n",
    "assert(x_te[np.isnan(x_te)].shape[0] == 0)\n",
    "\n",
    "# Standardize after replacing missing values\n",
    "IDs_degrees = np.array([10,13,15])\n",
    "x_tr = transform(x_tr,IDs_degrees)\n",
    "x_te = transform(x_te,IDs_degrees)\n",
    "\n",
    "# Add offset term to the input data\n",
    "xt_tr = add_offset(x_tr)\n",
    "xt_te = add_offset(x_te)"
   ]
  },
  {
   "cell_type": "code",
   "execution_count": 19,
   "metadata": {},
   "outputs": [
    {
     "name": "stdout",
     "output_type": "stream",
     "text": [
      "After pre-processing:\n",
      "x_tr shape : (250000, 22)\n",
      "x_te shape : (568238, 22)\n",
      "x_tr range :-2.0760373982511515 3.0\n",
      "x_te range :-2.0734828021024287 3.0\n"
     ]
    }
   ],
   "source": [
    "# plot features after pre-processing\n",
    "print(\"After pre-processing:\")\n",
    "print(\"x_tr shape : {}\".format(x_tr.shape))\n",
    "print(\"x_te shape : {}\".format(x_te.shape))\n",
    "print(\"x_tr range :{} {}\".format(np.min(x_tr), np.max(x_tr)))\n",
    "print(\"x_te range :{} {}\".format(np.min(x_te), np.max(x_te)))"
   ]
  },
  {
   "cell_type": "markdown",
   "metadata": {},
   "source": [
    "## Analyse test set :"
   ]
  },
  {
   "cell_type": "code",
   "execution_count": 20,
   "metadata": {},
   "outputs": [],
   "source": [
    "# ---"
   ]
  },
  {
   "cell_type": "markdown",
   "metadata": {},
   "source": [
    "## Model fitting"
   ]
  },
  {
   "cell_type": "code",
   "execution_count": 21,
   "metadata": {},
   "outputs": [
    {
     "name": "stdout",
     "output_type": "stream",
     "text": [
      "Training loss : 0.363579193312102\n"
     ]
    }
   ],
   "source": [
    "# Use downsampling\n",
    "\n",
    "\n",
    "# Fit a model\n",
    "w, loss_tr = least_squares(y_tr, x_tr)\n",
    "\n",
    "print(\"Training loss : {}\".format(loss_tr))"
   ]
  },
  {
   "cell_type": "markdown",
   "metadata": {},
   "source": [
    "# Model fitting and Predictions"
   ]
  },
  {
   "cell_type": "code",
   "execution_count": 22,
   "metadata": {},
   "outputs": [],
   "source": [
    "# w_init = np.zeros((xt_tr.shape[1], 1))\n",
    "# logistic_regression_penalized_gradient_descent_demo(y_tr, xt_tr, w_init, 10000, 0.0005, 0.5)"
   ]
  },
  {
   "cell_type": "markdown",
   "metadata": {},
   "source": [
    "## Cross-validation"
   ]
  },
  {
   "cell_type": "code",
   "execution_count": 32,
   "metadata": {},
   "outputs": [
    {
     "data": {
      "text/plain": [
       "[{'lambda': 0.1,\n",
       "  'gamma': 0,\n",
       "  'tr': {'acc': 0.731924, 'f1': 0.5549877552666478},\n",
       "  'te': {'acc': 0.731924, 'f1': 0.5549589237732188}},\n",
       " {'lambda': 0.01,\n",
       "  'gamma': 0,\n",
       "  'tr': {'acc': 0.731924, 'f1': 0.5549877552666478},\n",
       "  'te': {'acc': 0.731924, 'f1': 0.5549589237732188}},\n",
       " {'lambda': 0.001,\n",
       "  'gamma': 0,\n",
       "  'tr': {'acc': 0.731924, 'f1': 0.5549877552666478},\n",
       "  'te': {'acc': 0.731924, 'f1': 0.5549589237732188}},\n",
       " {'lambda': 0.0001,\n",
       "  'gamma': 0,\n",
       "  'tr': {'acc': 0.731924, 'f1': 0.5549877552666478},\n",
       "  'te': {'acc': 0.731924, 'f1': 0.5549589237732188}}]"
      ]
     },
     "execution_count": 32,
     "metadata": {},
     "output_type": "execute_result"
    }
   ],
   "source": [
    "from implementations import *\n",
    "from helpers import *\n",
    "\n",
    "#test colin\n",
    "w_init, _ = least_squares(y_tr, xt_tr)\n",
    "# w_init = w_init*0.0\n",
    "run_cross_validation(y_tr, xt_tr, 5, is_regression=False, lambdas=[1e-1, 1e-2, 1e-3, 1e-4, 1e-5, 2000], gammas=[0], initial_w=w_init, degree=0, max_iters=10000)"
   ]
  },
  {
   "cell_type": "code",
   "execution_count": 24,
   "metadata": {},
   "outputs": [
    {
     "ename": "SyntaxError",
     "evalue": "invalid syntax (1947214667.py, line 1)",
     "output_type": "error",
     "traceback": [
      "\u001b[1;36m  Input \u001b[1;32mIn [24]\u001b[1;36m\u001b[0m\n\u001b[1;33m    ---\u001b[0m\n\u001b[1;37m       ^\u001b[0m\n\u001b[1;31mSyntaxError\u001b[0m\u001b[1;31m:\u001b[0m invalid syntax\n"
     ]
    }
   ],
   "source": [
    "---"
   ]
  },
  {
   "cell_type": "code",
   "execution_count": null,
   "metadata": {},
   "outputs": [],
   "source": [
    "#prev\n",
    "\n",
    "from implementations import *\n",
    "from helpers import *\n",
    "\n",
    "\n",
    "\n",
    "# w_init, _ = least_squares(y_tr, xt_tr)\n",
    "\n",
    "# gamma_min = 2e-5\n",
    "# gamma_max = 35e-5\n",
    "# lambda_min = 0.0\n",
    "# lambda_max = 2000\n",
    "# lambdas = np.linspace(lambda_min, lambda_max, num_intervals_l)\n",
    "# gammas = np.linspace(gamma_min, gamma_max, num_intervals_g)\n",
    "\n",
    "# mean_loss_tr, mean_loss_te = run_cross_validation(y_tr, xt_tr, 2, w_init, 5, 2e-5,35e-5,0,2000,10,10)\n",
    "# print(\"Mean training mse: {}\".format(mean_loss_tr))\n",
    "# print(\"Mean test mse: {}\".format(mean_loss_te))\n",
    "\n",
    "# 2000  1e-05   = 0.69310\n",
    "# 722   1e-4    = 0.69307\n",
    "# 444   15e-05  = 0.69285\n",
    "# 222   25e-05  = 0.69265\n",
    "# 222   35e-05  = 0.69242"
   ]
  },
  {
   "cell_type": "markdown",
   "metadata": {},
   "source": [
    "## Predictions"
   ]
  },
  {
   "cell_type": "markdown",
   "metadata": {},
   "source": [
    "### Predictions with regression and threshold"
   ]
  },
  {
   "cell_type": "code",
   "execution_count": null,
   "metadata": {},
   "outputs": [],
   "source": [
    "# Make predictions from model's weight and set treshold for signal & background\n",
    "# y_predict = x_te@w\n",
    "# prediction_threshold = y_te.mean()"
   ]
  },
  {
   "cell_type": "code",
   "execution_count": null,
   "metadata": {},
   "outputs": [],
   "source": [
    "# prediction_threshold = 0\n",
    "# print(y_predict.shape)\n",
    "# for i in range(len(y_predict)) :\n",
    "#     if y_predict[i] <= prediction_threshold :\n",
    "#         y_predict[i] = 1\n",
    "#     else :\n",
    "#         y_predict[i] = -1\n",
    "# print(y_predict.shape)\n",
    "# y_test, input_test, ids_test = load_csv_data('./data/test.csv',False)\n",
    "# create_csv_submission(ids_test,y_predict,\"prediction test least square + feature engineering\")"
   ]
  },
  {
   "cell_type": "code",
   "execution_count": null,
   "metadata": {},
   "outputs": [],
   "source": [
    "print(y_tr.shape)\n",
    "print(y_tr[y_tr==1].shape, y_te.shape)\n",
    "print(x_tr.shape)"
   ]
  },
  {
   "cell_type": "markdown",
   "metadata": {},
   "source": [
    "### Predictions with log_reg"
   ]
  },
  {
   "cell_type": "code",
   "execution_count": null,
   "metadata": {},
   "outputs": [],
   "source": [
    "# logistic_regression(y, tx, initial_w, max_iters, gamma)\n",
    "# Fit the model\n",
    "for i in range(1, 5):\n",
    "\n",
    "    print(\"build poly {}\", i)\n",
    "    xtr = x_tr.copy()\n",
    "    xte = x_te.copy()\n",
    "\n",
    "    xtr = build_poly(xtr, 3)\n",
    "    xte = build_poly(xte, 3)\n",
    "\n",
    "    assert(xtr[np.isnan(xtr)].shape[0] == 0)\n",
    "    assert(xte[np.isnan(xte)].shape[0] == 0)\n",
    "\n",
    "    # Standardize after replacing missing values\n",
    "    IDs_degrees = np.array([10,13,15])\n",
    "    xtr = transform(xtr,IDs_degrees)\n",
    "    xte = transform(xte,IDs_degrees)\n",
    "\n",
    "    xt_tr = add_offset(xtr)\n",
    "    xt_te = add_offset(xte)\n",
    "\n",
    "    #\n",
    "    # =====\n",
    "    #\n",
    "\n",
    "    id = {}\n",
    "    y_pred = {}\n",
    "    # lambdas = [0,0,-2000,0]\n",
    "    lambdas = [0,0,0,0]\n",
    "    gammas = [0.5e-7,0.5e-07,0.5e-06,0.5e-6]\n",
    "    for i in range(0,4):\n",
    "        y_r,x_r = get_split_by_jet_data(y_tr,xt_tr,i)\n",
    "        y_e,x_e = get_split_by_jet_data(ids_tests,xt_te,i)\n",
    "        w_init = np.linalg.lstsq(x_r.T @ x_r, x_r.T @ y_r,rcond=None)[0]\n",
    "        w, loss = reg_logistic_regression(y_r, x_r, lambdas[i], w_init, 1000, gammas[i])\n",
    "        print(loss)\n",
    "        y_pred[i] = predict_log(w,x_e)\n",
    "        id[i] = y_e\n",
    "\n",
    "    y_predict = np.concatenate((y_pred[0],y_pred[1],y_pred[2],y_pred[3]),axis=0)\n",
    "    ids_test = np.concatenate((id[0],id[1],id[2],id[3]),axis=0)\n",
    "\n",
    "    print(len(y_predict[y_predict == 1]))\n",
    "    print(len(y_predict[y_predict == -1]))\n",
    "    print(len(y_predict))\n",
    "\n",
    "    #10 1e-6 = 0.269576\n",
    "    #5  1e-6 = 0.045 - 0.3248 - 0.5362 - 0.2657\n",
    "    #change lambdas  and gammas for each jet\n",
    "\n"
   ]
  },
  {
   "cell_type": "code",
   "execution_count": null,
   "metadata": {},
   "outputs": [],
   "source": [
    "#y_test, input_test, ids_test = load_csv_data(\"./data/test.csv\", False)\n",
    "# create_csv_submission(\n",
    "#     ids_test, y_predict, \"prediction test least square + feature engineering\"\n",
    "# )"
   ]
  },
  {
   "cell_type": "code",
   "execution_count": null,
   "metadata": {},
   "outputs": [],
   "source": []
  },
  {
   "cell_type": "markdown",
   "metadata": {},
   "source": [
    "### Balance dataset"
   ]
  },
  {
   "cell_type": "code",
   "execution_count": null,
   "metadata": {},
   "outputs": [],
   "source": [
    "# nb_s = len(y_tr[y_tr == 1])\n",
    "# nb_b = len(y_tr) - nb_s\n",
    "# print(\"Signals: {} ({}%)\".format(nb_s, 100 * nb_s / len(x_tr)))\n",
    "# print(\"Backgrounds: {} ({}%)\".format(nb_b, 100 * nb_b / len(x_tr)))\n",
    "# print(\"Ratio signal / background: {}\".format(nb_s / nb_b))\n",
    "\n",
    "# # x_tr_ds, y_tr_ds = balance_dataset(x_tr, y_tr) TODO"
   ]
  }
 ],
 "metadata": {
  "kernelspec": {
   "display_name": "Python 3.9.13 ('ml')",
   "language": "python",
   "name": "python3"
  },
  "language_info": {
   "codemirror_mode": {
    "name": "ipython",
    "version": 3
   },
   "file_extension": ".py",
   "mimetype": "text/x-python",
   "name": "python",
   "nbconvert_exporter": "python",
   "pygments_lexer": "ipython3",
   "version": "3.9.13"
  },
  "orig_nbformat": 4,
  "vscode": {
   "interpreter": {
    "hash": "8d6cc526fcb8a0758310ed89b8dab3b91f3ec4de7507d09c9bf6f1d1fde12f3a"
   }
  }
 },
 "nbformat": 4,
 "nbformat_minor": 2
}
