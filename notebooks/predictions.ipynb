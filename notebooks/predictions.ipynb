{
 "cells": [
  {
   "cell_type": "markdown",
   "metadata": {},
   "source": [
    "# Predictions\n",
    "This is used to run the whole pipeline of preprocessing and make predictions.  \n",
    "It doesn't contain any graphs or analysis tool in order to speed up a full run of the notebook.  "
   ]
  },
  {
   "cell_type": "markdown",
   "metadata": {},
   "source": [
    "## Imports and global variables"
   ]
  },
  {
   "cell_type": "code",
   "execution_count": 1,
   "metadata": {},
   "outputs": [],
   "source": [
    "import math\n",
    "import numpy as np\n",
    "import matplotlib.pyplot as plt\n",
    "import sys\n",
    "import csv\n",
    "import sys\n",
    "\n",
    "# import self-defined modules\n",
    "sys.path.append('../')\n",
    "from implementations import *\n",
    "from helpers import *\n",
    "\n",
    "%load_ext autoreload\n",
    "%autoreload 2\n",
    "%matplotlib inline"
   ]
  },
  {
   "cell_type": "code",
   "execution_count": 2,
   "metadata": {},
   "outputs": [],
   "source": [
    "DATA_FOLDER = \"../data/\"\n",
    "TRAIN_FILE = \"train.csv\"\n",
    "TEST_FILE = \"test.csv\"\n",
    "NAN_VALUE = -999.0\n",
    "INTEGER_COLUMN = (\n",
    "    22  # 24 in raw csv file, but 23 when id and prediction column are removed\n",
    ")\n",
    "\n",
    "# For debug purpose only\n",
    "SUB_SAMPLE = False"
   ]
  },
  {
   "cell_type": "markdown",
   "metadata": {},
   "source": [
    "# Import dataset"
   ]
  },
  {
   "cell_type": "code",
   "execution_count": 3,
   "metadata": {},
   "outputs": [
    {
     "name": "stdout",
     "output_type": "stream",
     "text": [
      "x_tr shape : (250000, 30), y_tr shape : (250000,)\n",
      "x_te shape : (568238, 30), y_te shape : (568238,)\n"
     ]
    }
   ],
   "source": [
    "# Load data\n",
    "y_tr,x_tr,_ = load_csv_data(\n",
    "    DATA_FOLDER + TRAIN_FILE, sub_sample=SUB_SAMPLE\n",
    ") \n",
    "y_te, x_te,ids_tests = load_csv_data(DATA_FOLDER + TEST_FILE, sub_sample=SUB_SAMPLE)\n",
    "print(\"x_tr shape : {}, y_tr shape : {}\".format(x_tr.shape, y_tr.shape))\n",
    "print(\"x_te shape : {}, y_te shape : {}\".format(x_te.shape, y_te.shape))\n",
    "\n",
    "# Define missing values as NAN\n",
    "x_tr[x_tr == NAN_VALUE] = np.nan\n",
    "x_te[x_te == NAN_VALUE] = np.nan\n",
    "\n",
    "# Get columns names\n",
    "col_names = []\n",
    "with open(DATA_FOLDER + TRAIN_FILE) as dataset:\n",
    "    col_names = dataset.readline().split(\",\")"
   ]
  },
  {
   "cell_type": "markdown",
   "metadata": {},
   "source": [
    "Initial range of values"
   ]
  },
  {
   "cell_type": "code",
   "execution_count": 4,
   "metadata": {},
   "outputs": [
    {
     "name": "stdout",
     "output_type": "stream",
     "text": [
      "x_tr range :-18.066 4974.979\n",
      "x_te range :-19.012 4794.827\n"
     ]
    }
   ],
   "source": [
    "print(\"x_tr range :{} {}\".format(np.nanmin(x_tr), np.nanmax(x_tr)))\n",
    "print(\"x_te range :{} {}\".format(np.nanmin(x_te), np.nanmax(x_te)))"
   ]
  },
  {
   "cell_type": "markdown",
   "metadata": {},
   "source": [
    "## Pre-processing"
   ]
  },
  {
   "cell_type": "code",
   "execution_count": 5,
   "metadata": {},
   "outputs": [
    {
     "name": "stdout",
     "output_type": "stream",
     "text": [
      "Before pre-processing:\n",
      "x_tr shape : (250000, 30)\n",
      "x_te shape : (568238, 30)\n",
      "x_tr range :-18.066 4974.979\n",
      "x_te range :-19.012 4794.827\n"
     ]
    }
   ],
   "source": [
    "# before pre-processing\n",
    "print(\"Before pre-processing:\")\n",
    "print(\"x_tr shape : {}\".format(x_tr.shape))\n",
    "print(\"x_te shape : {}\".format(x_te.shape))\n",
    "print(\"x_tr range :{} {}\".format(np.nanmin(x_tr), np.nanmax(x_tr)))\n",
    "print(\"x_te range :{} {}\".format(np.nanmin(x_te), np.nanmax(x_te)))"
   ]
  },
  {
   "cell_type": "code",
   "execution_count": 6,
   "metadata": {},
   "outputs": [],
   "source": [
    "# apply log transformation\n",
    "cols_to_log_transform = ['DER_pt_h', 'DER_pt_tot', 'PRI_met', 'PRI_met_sumet']\n",
    "cols_idx = [get_col_idx(col, col_names) for col in cols_to_log_transform]\n",
    "\n",
    "x_tr, x_te = log_transform(x_tr, x_te, cols_idx)\n",
    "\n",
    "# Remove columns with too much NAN\n",
    "x_tr = remove_nan_columns(x_tr, 0.5)\n",
    "x_te = remove_nan_columns(x_te, 0.5)\n",
    "\n",
    "# Replace missing data by the mean\n",
    "# mean_x = np.nanmean(x_tr, axis=0)\n",
    "mean_x = np.nanvar(x_tr, axis=0)\n",
    "x_tr = replace_nan_by_means(x_tr, mean_data=mean_x)\n",
    "x_te = replace_nan_by_means(x_te, mean_data=mean_x)\n",
    "\n",
    "# build poly\n",
    "# x_tr = build_poly(x_tr, 3)\n",
    "# x_te = build_poly(x_te, 3)\n",
    "\n",
    "assert(x_tr[np.isnan(x_tr)].shape[0] == 0)\n",
    "assert(x_te[np.isnan(x_te)].shape[0] == 0)\n",
    "\n",
    "# Standardize after replacing missing values\n",
    "IDs_degrees = np.array([10,13,15])\n",
    "x_tr = transform(x_tr,IDs_degrees)\n",
    "x_te = transform(x_te,IDs_degrees)"
   ]
  },
  {
   "cell_type": "code",
   "execution_count": 7,
   "metadata": {},
   "outputs": [
    {
     "name": "stdout",
     "output_type": "stream",
     "text": [
      "After pre-processing:\n",
      "x_tr shape : (250000, 22)\n",
      "x_te shape : (568238, 22)\n",
      "x_tr range :-2.0760373982511515 3.0\n",
      "x_te range :-2.0734828021024287 3.0\n"
     ]
    }
   ],
   "source": [
    "# plot features after pre-processing\n",
    "print(\"After pre-processing:\")\n",
    "print(\"x_tr shape : {}\".format(x_tr.shape))\n",
    "print(\"x_te shape : {}\".format(x_te.shape))\n",
    "print(\"x_tr range :{} {}\".format(np.min(x_tr), np.max(x_tr)))\n",
    "print(\"x_te range :{} {}\".format(np.min(x_te), np.max(x_te)))"
   ]
  },
  {
   "cell_type": "markdown",
   "metadata": {},
   "source": [
    "## Analyse test set :"
   ]
  },
  {
   "cell_type": "code",
   "execution_count": 8,
   "metadata": {},
   "outputs": [],
   "source": [
    "# ---"
   ]
  },
  {
   "cell_type": "markdown",
   "metadata": {},
   "source": [
    "## Model fitting"
   ]
  },
  {
   "cell_type": "code",
   "execution_count": 9,
   "metadata": {},
   "outputs": [
    {
     "name": "stdout",
     "output_type": "stream",
     "text": [
      "Training loss : 0.363579193312102\n"
     ]
    }
   ],
   "source": [
    "# Use downsampling\n",
    "\n",
    "\n",
    "# Fit a model\n",
    "w, loss_tr = least_squares(y_tr, x_tr)\n",
    "\n",
    "print(\"Training loss : {}\".format(loss_tr))"
   ]
  },
  {
   "cell_type": "markdown",
   "metadata": {},
   "source": [
    "# Model fitting and Predictions"
   ]
  },
  {
   "cell_type": "code",
   "execution_count": 10,
   "metadata": {},
   "outputs": [],
   "source": [
    "# w_init = np.zeros((xt_tr.shape[1], 1))\n",
    "# logistic_regression_penalized_gradient_descent_demo(y_tr, xt_tr, w_init, 10000, 0.0005, 0.5)"
   ]
  },
  {
   "cell_type": "markdown",
   "metadata": {},
   "source": [
    "## Cross-validation"
   ]
  },
  {
   "cell_type": "code",
   "execution_count": 13,
   "metadata": {},
   "outputs": [
    {
     "name": "stdout",
     "output_type": "stream",
     "text": [
      "Training accuracy : 0.7146\n",
      "Training f1 : 0.4803047519156251\n",
      "0.37546161950790485\n"
     ]
    }
   ],
   "source": [
    "# test a fit\n",
    "# w_init, _ = least_squares(y_tr, xt_tr)\n",
    "# w, loss, best_w, best_loss = reg_logistic_regression(y_tr, xt_tr, 0.0, w_init, 1000, 1e-1)\n",
    "\n",
    "xt_tr = add_offset(x_tr)\n",
    "\n",
    "w, loss = ridge_regression(y_tr, xt_tr, 0.2)\n",
    "y_pred = predict_reg(w, xt_tr)\n",
    "\n",
    "print(\"Training accuracy : {}\".format(accuracy(y_tr, y_pred)))\n",
    "print(\"Training f1 : {}\".format(f1_score(y_tr, y_pred)))\n",
    "print(loss)"
   ]
  },
  {
   "cell_type": "code",
   "execution_count": null,
   "metadata": {},
   "outputs": [],
   "source": [
    "# [-0.45103271 -0.43671798 -0.22253337  0.05874607  0.36873291 -0.11040676\n",
    "#  -0.23438256 -0.0135407   0.25617264  0.43010659 -0.00121142 -0.00315515\n",
    "#   0.14469327 -0.00281758  0.01000152  0.05275836  0.00269774  0.02761846\n",
    "#  -0.08339346  0.20658648  0.00553953  0.0030413   0.00256895]\n",
    "\n",
    "# get the best w for the GD\n",
    "print(\"best_loss\", best_loss)\n",
    "print(\"best_w\", best_w)\n",
    "\n",
    "# Predict labels and test performance with best w\n",
    "y_pred = predict_log(best_w, xt_tr)\n",
    "print(\"Training accuracy : {}\".format(accuracy(y_tr, y_pred)))\n",
    "print(\"Training f1 : {}\".format(f1_score(y_tr, y_pred)))"
   ]
  },
  {
   "cell_type": "code",
   "execution_count": 25,
   "metadata": {},
   "outputs": [
    {
     "name": "stdout",
     "output_type": "stream",
     "text": [
      "(250000, 22)\n",
      "(250000, 67)\n"
     ]
    }
   ],
   "source": [
    "from implementations import *\n",
    "from helpers import *\n",
    "print(x_tr.shape)\n",
    "x_tmp = build_poly(x_tr.copy(), 3)\n",
    "print(x_tmp.shape)"
   ]
  },
  {
   "cell_type": "code",
   "execution_count": 35,
   "metadata": {},
   "outputs": [
    {
     "name": "stdout",
     "output_type": "stream",
     "text": [
      "lambda_=0.1, degree=1, gamma=0.0\n",
      "lambda_=0.1, degree=2, gamma=0.0\n",
      "lambda_=0.1, degree=3, gamma=0.0\n",
      "lambda_=0.01, degree=1, gamma=0.0\n",
      "lambda_=0.01, degree=2, gamma=0.0\n",
      "lambda_=0.01, degree=3, gamma=0.0\n",
      "lambda_=0.001, degree=1, gamma=0.0\n",
      "lambda_=0.001, degree=2, gamma=0.0\n",
      "lambda_=0.001, degree=3, gamma=0.0\n"
     ]
    }
   ],
   "source": [
    "from implementations import *\n",
    "from helpers import *\n",
    "\n",
    "import pandas as pd\n",
    "#test colin\n",
    "# w_init, _ = least_squares(y_tr, xt_tr)\n",
    "# w_init = w_init*0.0\n",
    "# lambdas=[1e-1, 1e-2, 1e-3, 1e-4, 1e-5]\n",
    "res = run_cross_validation(y_tr, x_tr, 3, is_regression=True, lambdas=[1e-1, 1e-2, 1e-3], degrees=[1, 2, 3], threshold=0)\n",
    "# run_cross_validation(y_tr, xt_tr, 5, is_regression=False, lambdas=[0.0], gammas=[1e-3], initial_w=w_init, degree=0, max_iters=10000)"
   ]
  },
  {
   "cell_type": "code",
   "execution_count": 36,
   "metadata": {},
   "outputs": [
    {
     "data": {
      "text/html": [
       "<div>\n",
       "<style scoped>\n",
       "    .dataframe tbody tr th:only-of-type {\n",
       "        vertical-align: middle;\n",
       "    }\n",
       "\n",
       "    .dataframe tbody tr th {\n",
       "        vertical-align: top;\n",
       "    }\n",
       "\n",
       "    .dataframe thead th {\n",
       "        text-align: right;\n",
       "    }\n",
       "</style>\n",
       "<table border=\"1\" class=\"dataframe\">\n",
       "  <thead>\n",
       "    <tr style=\"text-align: right;\">\n",
       "      <th></th>\n",
       "      <th>lambda</th>\n",
       "      <th>gamma</th>\n",
       "      <th>degree</th>\n",
       "      <th>tr</th>\n",
       "      <th>te</th>\n",
       "    </tr>\n",
       "  </thead>\n",
       "  <tbody>\n",
       "    <tr>\n",
       "      <th>0</th>\n",
       "      <td>0.100</td>\n",
       "      <td>0.0</td>\n",
       "      <td>1</td>\n",
       "      <td>{'acc': 0.7211028844115376, 'f1': 0.5077701122...</td>\n",
       "      <td>{'acc': 0.7209388837555352, 'f1': 0.5075919545...</td>\n",
       "    </tr>\n",
       "    <tr>\n",
       "      <th>1</th>\n",
       "      <td>0.100</td>\n",
       "      <td>0.0</td>\n",
       "      <td>2</td>\n",
       "      <td>{'acc': 0.7687310749242996, 'f1': 0.6146068148...</td>\n",
       "      <td>{'acc': 0.7686830747322989, 'f1': 0.6147206849...</td>\n",
       "    </tr>\n",
       "    <tr>\n",
       "      <th>2</th>\n",
       "      <td>0.100</td>\n",
       "      <td>0.0</td>\n",
       "      <td>3</td>\n",
       "      <td>{'acc': 0.7804791219164876, 'f1': 0.6393281553...</td>\n",
       "      <td>{'acc': 0.7804711218844876, 'f1': 0.6393822613...</td>\n",
       "    </tr>\n",
       "    <tr>\n",
       "      <th>3</th>\n",
       "      <td>0.010</td>\n",
       "      <td>0.0</td>\n",
       "      <td>1</td>\n",
       "      <td>{'acc': 0.7311509246036985, 'f1': 0.5508729531...</td>\n",
       "      <td>{'acc': 0.730938923755695, 'f1': 0.55059550464...</td>\n",
       "    </tr>\n",
       "    <tr>\n",
       "      <th>4</th>\n",
       "      <td>0.010</td>\n",
       "      <td>0.0</td>\n",
       "      <td>2</td>\n",
       "      <td>{'acc': 0.7755871023484094, 'f1': 0.6483933072...</td>\n",
       "      <td>{'acc': 0.7755231020924084, 'f1': 0.6484118140...</td>\n",
       "    </tr>\n",
       "    <tr>\n",
       "      <th>5</th>\n",
       "      <td>0.010</td>\n",
       "      <td>0.0</td>\n",
       "      <td>3</td>\n",
       "      <td>{'acc': 0.790379161516646, 'f1': 0.67352306347...</td>\n",
       "      <td>{'acc': 0.7902791611166444, 'f1': 0.6734658737...</td>\n",
       "    </tr>\n",
       "    <tr>\n",
       "      <th>6</th>\n",
       "      <td>0.001</td>\n",
       "      <td>0.0</td>\n",
       "      <td>1</td>\n",
       "      <td>{'acc': 0.7317809271237085, 'f1': 0.5545612576...</td>\n",
       "      <td>{'acc': 0.7317269269077076, 'f1': 0.5546933173...</td>\n",
       "    </tr>\n",
       "    <tr>\n",
       "      <th>7</th>\n",
       "      <td>0.001</td>\n",
       "      <td>0.0</td>\n",
       "      <td>2</td>\n",
       "      <td>{'acc': 0.7755391021564085, 'f1': 0.6507219794...</td>\n",
       "      <td>{'acc': 0.7753871015484063, 'f1': 0.6505109705...</td>\n",
       "    </tr>\n",
       "    <tr>\n",
       "      <th>8</th>\n",
       "      <td>0.001</td>\n",
       "      <td>0.0</td>\n",
       "      <td>3</td>\n",
       "      <td>{'acc': 0.7910711642846571, 'f1': 0.6775108912...</td>\n",
       "      <td>{'acc': 0.7908471633886536, 'f1': 0.6771962611...</td>\n",
       "    </tr>\n",
       "  </tbody>\n",
       "</table>\n",
       "</div>"
      ],
      "text/plain": [
       "   lambda  gamma  degree                                                 tr  \\\n",
       "0   0.100    0.0       1  {'acc': 0.7211028844115376, 'f1': 0.5077701122...   \n",
       "1   0.100    0.0       2  {'acc': 0.7687310749242996, 'f1': 0.6146068148...   \n",
       "2   0.100    0.0       3  {'acc': 0.7804791219164876, 'f1': 0.6393281553...   \n",
       "3   0.010    0.0       1  {'acc': 0.7311509246036985, 'f1': 0.5508729531...   \n",
       "4   0.010    0.0       2  {'acc': 0.7755871023484094, 'f1': 0.6483933072...   \n",
       "5   0.010    0.0       3  {'acc': 0.790379161516646, 'f1': 0.67352306347...   \n",
       "6   0.001    0.0       1  {'acc': 0.7317809271237085, 'f1': 0.5545612576...   \n",
       "7   0.001    0.0       2  {'acc': 0.7755391021564085, 'f1': 0.6507219794...   \n",
       "8   0.001    0.0       3  {'acc': 0.7910711642846571, 'f1': 0.6775108912...   \n",
       "\n",
       "                                                  te  \n",
       "0  {'acc': 0.7209388837555352, 'f1': 0.5075919545...  \n",
       "1  {'acc': 0.7686830747322989, 'f1': 0.6147206849...  \n",
       "2  {'acc': 0.7804711218844876, 'f1': 0.6393822613...  \n",
       "3  {'acc': 0.730938923755695, 'f1': 0.55059550464...  \n",
       "4  {'acc': 0.7755231020924084, 'f1': 0.6484118140...  \n",
       "5  {'acc': 0.7902791611166444, 'f1': 0.6734658737...  \n",
       "6  {'acc': 0.7317269269077076, 'f1': 0.5546933173...  \n",
       "7  {'acc': 0.7753871015484063, 'f1': 0.6505109705...  \n",
       "8  {'acc': 0.7908471633886536, 'f1': 0.6771962611...  "
      ]
     },
     "execution_count": 36,
     "metadata": {},
     "output_type": "execute_result"
    }
   ],
   "source": [
    "pd.DataFrame(res)"
   ]
  },
  {
   "cell_type": "code",
   "execution_count": null,
   "metadata": {},
   "outputs": [],
   "source": [
    "---"
   ]
  },
  {
   "cell_type": "code",
   "execution_count": null,
   "metadata": {},
   "outputs": [],
   "source": [
    "#prev\n",
    "\n",
    "from implementations import *\n",
    "from helpers import *\n",
    "\n",
    "\n",
    "\n",
    "# w_init, _ = least_squares(y_tr, xt_tr)\n",
    "\n",
    "# gamma_min = 2e-5\n",
    "# gamma_max = 35e-5\n",
    "# lambda_min = 0.0\n",
    "# lambda_max = 2000\n",
    "# lambdas = np.linspace(lambda_min, lambda_max, num_intervals_l)\n",
    "# gammas = np.linspace(gamma_min, gamma_max, num_intervals_g)\n",
    "\n",
    "# mean_loss_tr, mean_loss_te = run_cross_validation(y_tr, xt_tr, 2, w_init, 5, 2e-5,35e-5,0,2000,10,10)\n",
    "# print(\"Mean training mse: {}\".format(mean_loss_tr))\n",
    "# print(\"Mean test mse: {}\".format(mean_loss_te))\n",
    "\n",
    "# 2000  1e-05   = 0.69310\n",
    "# 722   1e-4    = 0.69307\n",
    "# 444   15e-05  = 0.69285\n",
    "# 222   25e-05  = 0.69265\n",
    "# 222   35e-05  = 0.69242"
   ]
  },
  {
   "cell_type": "markdown",
   "metadata": {},
   "source": [
    "## Predictions"
   ]
  },
  {
   "cell_type": "markdown",
   "metadata": {},
   "source": [
    "### Predictions with regression and threshold"
   ]
  },
  {
   "cell_type": "code",
   "execution_count": null,
   "metadata": {},
   "outputs": [],
   "source": [
    "# Make predictions from model's weight and set treshold for signal & background\n",
    "# y_predict = x_te@w\n",
    "# prediction_threshold = y_te.mean()"
   ]
  },
  {
   "cell_type": "code",
   "execution_count": null,
   "metadata": {},
   "outputs": [],
   "source": [
    "# prediction_threshold = 0\n",
    "# print(y_predict.shape)\n",
    "# for i in range(len(y_predict)) :\n",
    "#     if y_predict[i] <= prediction_threshold :\n",
    "#         y_predict[i] = 1\n",
    "#     else :\n",
    "#         y_predict[i] = -1\n",
    "# print(y_predict.shape)\n",
    "# y_test, input_test, ids_test = load_csv_data('./data/test.csv',False)\n",
    "# create_csv_submission(ids_test,y_predict,\"prediction test least square + feature engineering\")"
   ]
  },
  {
   "cell_type": "code",
   "execution_count": null,
   "metadata": {},
   "outputs": [],
   "source": [
    "print(y_tr.shape)\n",
    "print(y_tr[y_tr==1].shape, y_te.shape)\n",
    "print(x_tr.shape)"
   ]
  },
  {
   "cell_type": "markdown",
   "metadata": {},
   "source": []
  },
  {
   "cell_type": "markdown",
   "metadata": {},
   "source": [
    "### Predictions with log_reg"
   ]
  },
  {
   "cell_type": "code",
   "execution_count": null,
   "metadata": {},
   "outputs": [],
   "source": [
    "# logistic_regression(y, tx, initial_w, max_iters, gamma)\n",
    "# Fit the model\n",
    "for i in range(1, 5):\n",
    "\n",
    "    print(\"build poly {}\", i)\n",
    "    xtr = x_tr.copy()\n",
    "    xte = x_te.copy()\n",
    "\n",
    "    xtr = build_poly(xtr, 3)\n",
    "    xte = build_poly(xte, 3)\n",
    "\n",
    "    assert(xtr[np.isnan(xtr)].shape[0] == 0)\n",
    "    assert(xte[np.isnan(xte)].shape[0] == 0)\n",
    "\n",
    "    # Standardize after replacing missing values\n",
    "    IDs_degrees = np.array([10,13,15])\n",
    "    xtr = transform(xtr,IDs_degrees)\n",
    "    xte = transform(xte,IDs_degrees)\n",
    "\n",
    "    #\n",
    "    # =====\n",
    "    #\n",
    "\n",
    "    id = {}\n",
    "    y_pred = {}\n",
    "    # lambdas = [0,0,-2000,0]\n",
    "    lambdas = [0,0,0,0]\n",
    "    gammas = [0.5e-7,0.5e-07,0.5e-06,0.5e-6]\n",
    "    for i in range(0,4):\n",
    "        y_r,x_r = get_split_by_jet_data(y_tr,xt_tr,i)\n",
    "        y_e,x_e = get_split_by_jet_data(ids_tests,xt_te,i)\n",
    "        w_init = np.linalg.lstsq(x_r.T @ x_r, x_r.T @ y_r,rcond=None)[0]\n",
    "        w, loss = reg_logistic_regression(y_r, x_r, lambdas[i], w_init, 1000, gammas[i])\n",
    "        print(loss)\n",
    "        y_pred[i] = predict_log(w,x_e)\n",
    "        id[i] = y_e\n",
    "\n",
    "    y_predict = np.concatenate((y_pred[0],y_pred[1],y_pred[2],y_pred[3]),axis=0)\n",
    "    ids_test = np.concatenate((id[0],id[1],id[2],id[3]),axis=0)\n",
    "\n",
    "    print(len(y_predict[y_predict == 1]))\n",
    "    print(len(y_predict[y_predict == -1]))\n",
    "    print(len(y_predict))\n",
    "\n",
    "    #10 1e-6 = 0.269576\n",
    "    #5  1e-6 = 0.045 - 0.3248 - 0.5362 - 0.2657\n",
    "    #change lambdas  and gammas for each jet\n",
    "\n"
   ]
  },
  {
   "cell_type": "code",
   "execution_count": 39,
   "metadata": {},
   "outputs": [
    {
     "name": "stdout",
     "output_type": "stream",
     "text": [
      "Training accuracy : 0.791008\n",
      "Training f1 : 0.6773540164015414\n",
      "0.30253050445628293\n"
     ]
    }
   ],
   "source": [
    "# Run on the train set\n",
    "x_pred = build_poly(x_tr, 3)\n",
    "w, loss = ridge_regression(y_tr, x_pred, lambda_=1e-3)\n",
    "y_pred = predict_reg(w, x_pred)\n",
    "\n",
    "print(\"Training accuracy : {}\".format(accuracy(y_tr, y_pred)))\n",
    "print(\"Training f1 : {}\".format(f1_score(y_tr, y_pred)))\n",
    "print(loss)\n",
    "\n",
    "# Run on the test set\n",
    "x_pred = build_poly(x_te, 3)\n",
    "y_pred = predict_reg(w, x_pred)\n",
    "\n",
    "y_test, input_test, ids_test = load_csv_data(DATA_FOLDER + TEST_FILE, False)\n",
    "\n",
    "create_csv_submission(\n",
    "    ids_test, y_pred, \"../results/pred.csv\"\n",
    ")"
   ]
  },
  {
   "cell_type": "code",
   "execution_count": null,
   "metadata": {},
   "outputs": [],
   "source": []
  },
  {
   "cell_type": "markdown",
   "metadata": {},
   "source": [
    "### Balance dataset"
   ]
  },
  {
   "cell_type": "code",
   "execution_count": null,
   "metadata": {},
   "outputs": [],
   "source": [
    "# nb_s = len(y_tr[y_tr == 1])\n",
    "# nb_b = len(y_tr) - nb_s\n",
    "# print(\"Signals: {} ({}%)\".format(nb_s, 100 * nb_s / len(x_tr)))\n",
    "# print(\"Backgrounds: {} ({}%)\".format(nb_b, 100 * nb_b / len(x_tr)))\n",
    "# print(\"Ratio signal / background: {}\".format(nb_s / nb_b))\n",
    "\n",
    "# # x_tr_ds, y_tr_ds = balance_dataset(x_tr, y_tr) TODO"
   ]
  }
 ],
 "metadata": {
  "kernelspec": {
   "display_name": "Python 3.9.13 ('ml')",
   "language": "python",
   "name": "python3"
  },
  "language_info": {
   "codemirror_mode": {
    "name": "ipython",
    "version": 3
   },
   "file_extension": ".py",
   "mimetype": "text/x-python",
   "name": "python",
   "nbconvert_exporter": "python",
   "pygments_lexer": "ipython3",
   "version": "3.9.13"
  },
  "orig_nbformat": 4,
  "vscode": {
   "interpreter": {
    "hash": "8d6cc526fcb8a0758310ed89b8dab3b91f3ec4de7507d09c9bf6f1d1fde12f3a"
   }
  }
 },
 "nbformat": 4,
 "nbformat_minor": 2
}
