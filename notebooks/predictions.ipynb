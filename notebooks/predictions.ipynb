{
 "cells": [
  {
   "cell_type": "markdown",
   "metadata": {},
   "source": [
    "# Predictions\n",
    "This is used to run the whole pipeline of preprocessing and make predictions.  \n",
    "It doesn't contain any graphs or analysis tool in order to speed up a full run of the notebook.  "
   ]
  },
  {
   "cell_type": "markdown",
   "metadata": {},
   "source": [
    "## Imports and global variables"
   ]
  },
  {
   "cell_type": "code",
   "execution_count": 17,
   "metadata": {},
   "outputs": [
    {
     "name": "stdout",
     "output_type": "stream",
     "text": [
      "The autoreload extension is already loaded. To reload it, use:\n",
      "  %reload_ext autoreload\n"
     ]
    }
   ],
   "source": [
    "import math\n",
    "import numpy as np\n",
    "import matplotlib.pyplot as plt\n",
    "import sys\n",
    "import csv\n",
    "\n",
    "sys.path.append(\"../\")\n",
    "sys.path.append(\"../src/\")\n",
    "# import self-defined modules\n",
    "from src.helpers import *\n",
    "from src.implementations import *\n",
    "from src.cross_validation import *\n",
    "\n",
    "%load_ext autoreload\n",
    "%autoreload 2\n",
    "%matplotlib inline"
   ]
  },
  {
   "cell_type": "code",
   "execution_count": 18,
   "metadata": {},
   "outputs": [],
   "source": [
    "DATA_FOLDER = \"../data/\"\n",
    "TRAIN_FILE = \"train.csv\"\n",
    "TEST_FILE = \"test.csv\"\n",
    "NAN_VALUE = -999.0\n",
    "INTEGER_COLUMN = (\n",
    "    22  # 24 in raw csv file, but 23 when id and prediction column are removed\n",
    ")\n",
    "\n",
    "# For debug purpose only\n",
    "SUB_SAMPLE = False"
   ]
  },
  {
   "cell_type": "markdown",
   "metadata": {},
   "source": [
    "# Import dataset"
   ]
  },
  {
   "cell_type": "code",
   "execution_count": 19,
   "metadata": {},
   "outputs": [
    {
     "name": "stdout",
     "output_type": "stream",
     "text": [
      "x_tr shape : (250000, 30), y_tr shape : (250000,)\n",
      "x_te shape : (568238, 30), y_te shape : (568238,)\n"
     ]
    }
   ],
   "source": [
    "# Load data\n",
    "y_tr, x_tr, _ = load_csv_data(DATA_FOLDER + TRAIN_FILE, sub_sample=SUB_SAMPLE)\n",
    "y_te, x_te, ids_tests = load_csv_data(DATA_FOLDER + TEST_FILE, sub_sample=SUB_SAMPLE)\n",
    "print(\"x_tr shape : {}, y_tr shape : {}\".format(x_tr.shape, y_tr.shape))\n",
    "print(\"x_te shape : {}, y_te shape : {}\".format(x_te.shape, y_te.shape))\n",
    "\n",
    "# Define missing values as NAN\n",
    "x_tr[x_tr == NAN_VALUE] = np.nan\n",
    "x_te[x_te == NAN_VALUE] = np.nan\n",
    "\n",
    "# Get columns names\n",
    "col_names = []\n",
    "with open(DATA_FOLDER + TRAIN_FILE) as dataset:\n",
    "    col_names = dataset.readline().split(\",\")"
   ]
  },
  {
   "cell_type": "markdown",
   "metadata": {},
   "source": [
    "Initial range of values"
   ]
  },
  {
   "cell_type": "code",
   "execution_count": 20,
   "metadata": {},
   "outputs": [
    {
     "name": "stdout",
     "output_type": "stream",
     "text": [
      "x_tr range :-18.066 4974.979\n",
      "x_te range :-19.012 4794.827\n"
     ]
    }
   ],
   "source": [
    "print(\"x_tr range :{} {}\".format(np.nanmin(x_tr), np.nanmax(x_tr)))\n",
    "print(\"x_te range :{} {}\".format(np.nanmin(x_te), np.nanmax(x_te)))"
   ]
  },
  {
   "cell_type": "markdown",
   "metadata": {},
   "source": [
    "## Pre-processing"
   ]
  },
  {
   "cell_type": "code",
   "execution_count": 21,
   "metadata": {},
   "outputs": [
    {
     "name": "stdout",
     "output_type": "stream",
     "text": [
      "Before pre-processing:\n",
      "x_tr shape : (250000, 30)\n",
      "x_te shape : (568238, 30)\n",
      "x_tr range :-18.066 4974.979\n",
      "x_te range :-19.012 4794.827\n"
     ]
    }
   ],
   "source": [
    "# before pre-processing\n",
    "print(\"Before pre-processing:\")\n",
    "print(\"x_tr shape : {}\".format(x_tr.shape))\n",
    "print(\"x_te shape : {}\".format(x_te.shape))\n",
    "print(\"x_tr range :{} {}\".format(np.nanmin(x_tr), np.nanmax(x_tr)))\n",
    "print(\"x_te range :{} {}\".format(np.nanmin(x_te), np.nanmax(x_te)))"
   ]
  },
  {
   "cell_type": "code",
   "execution_count": 22,
   "metadata": {},
   "outputs": [],
   "source": [
    "# apply log transformation\n",
    "cols_to_log_transform = [\"DER_pt_h\", \"DER_pt_tot\", \"PRI_met\", \"PRI_met_sumet\"]\n",
    "cols_idx = [get_col_idx(col, col_names) for col in cols_to_log_transform]\n",
    "\n",
    "x_tr, x_te = log_transform(x_tr, x_te, cols_idx)\n",
    "\n",
    "# Remove columns with too much NAN\n",
    "x_tr = remove_nan_columns(x_tr, 1)\n",
    "x_te = remove_nan_columns(x_te, 1)\n",
    "\n",
    "# Replace missing data by the mean\n",
    "mean_x = np.nanvar(x_tr, axis=0)\n",
    "x_tr = replace_nan_by_means(x_tr, mean_data=mean_x)\n",
    "x_te = replace_nan_by_means(x_te, mean_data=mean_x)\n",
    "\n",
    "\n",
    "assert x_tr[np.isnan(x_tr)].shape[0] == 0\n",
    "assert x_te[np.isnan(x_te)].shape[0] == 0\n",
    "\n",
    "# Standardize after replacing missing values\n",
    "IDs_degrees = np.array([10, 13, 15])\n",
    "x_tr = transform(x_tr, IDs_degrees)\n",
    "x_te = transform(x_te, IDs_degrees)"
   ]
  },
  {
   "cell_type": "code",
   "execution_count": 23,
   "metadata": {},
   "outputs": [
    {
     "name": "stdout",
     "output_type": "stream",
     "text": [
      "After pre-processing:\n",
      "x_tr shape : (250000, 22)\n",
      "x_te shape : (568238, 22)\n",
      "x_tr range :-2.0760373982511515 3.0\n",
      "x_te range :-2.0734828021024287 3.0\n"
     ]
    }
   ],
   "source": [
    "# plot features after pre-processing\n",
    "print(\"After pre-processing:\")\n",
    "print(\"x_tr shape : {}\".format(x_tr.shape))\n",
    "print(\"x_te shape : {}\".format(x_te.shape))\n",
    "print(\"x_tr range :{} {}\".format(np.min(x_tr), np.max(x_tr)))\n",
    "print(\"x_te range :{} {}\".format(np.min(x_te), np.max(x_te)))"
   ]
  },
  {
   "cell_type": "markdown",
   "metadata": {},
   "source": [
    "## Model fitting"
   ]
  },
  {
   "cell_type": "code",
   "execution_count": 24,
   "metadata": {},
   "outputs": [
    {
     "name": "stdout",
     "output_type": "stream",
     "text": [
      "Training loss : 0.363579193312102\n"
     ]
    }
   ],
   "source": [
    "# Fit a model\n",
    "w, loss_tr = least_squares(y_tr, x_tr)\n",
    "\n",
    "print(\"Training loss : {}\".format(loss_tr))"
   ]
  },
  {
   "cell_type": "markdown",
   "metadata": {},
   "source": [
    "## Cross-validation"
   ]
  },
  {
   "cell_type": "code",
   "execution_count": 25,
   "metadata": {},
   "outputs": [],
   "source": [
    "import pandas as pd  # TODO\n",
    "\n",
    "# test colin\n",
    "# w_init, _ = least_squares(y_tr, xt_tr)\n",
    "# w_init = w_init*0.0\n",
    "# lambdas=[1e-1, 1e-2, 1e-3, 1e-4, 1e-5]\n",
    "results, best_res = run_cross_validation(\n",
    "    y_tr,\n",
    "    x_tr,\n",
    "    3,\n",
    "    is_regression=True,\n",
    "    lambdas=[0, 0.5, 1e-1, 1e-2, 1e-3, 1e-4, 1e-5],\n",
    "    degrees=[1, 2, 3, 4],\n",
    ")\n",
    "# run_cross_validation(y_tr, xt_tr, 5, is_regression=False, lambdas=[0.0], gammas=[1e-3], initial_w=w_init, degree=0, max_iters=10000)"
   ]
  },
  {
   "cell_type": "code",
   "execution_count": 26,
   "metadata": {},
   "outputs": [
    {
     "data": {
      "text/html": [
       "<div>\n",
       "<style scoped>\n",
       "    .dataframe tbody tr th:only-of-type {\n",
       "        vertical-align: middle;\n",
       "    }\n",
       "\n",
       "    .dataframe tbody tr th {\n",
       "        vertical-align: top;\n",
       "    }\n",
       "\n",
       "    .dataframe thead th {\n",
       "        text-align: right;\n",
       "    }\n",
       "</style>\n",
       "<table border=\"1\" class=\"dataframe\">\n",
       "  <thead>\n",
       "    <tr style=\"text-align: right;\">\n",
       "      <th></th>\n",
       "      <th>lambda</th>\n",
       "      <th>gamma</th>\n",
       "      <th>degree</th>\n",
       "      <th>tr</th>\n",
       "      <th>te</th>\n",
       "    </tr>\n",
       "  </thead>\n",
       "  <tbody>\n",
       "    <tr>\n",
       "      <th>0</th>\n",
       "      <td>0.00000</td>\n",
       "      <td>0.0</td>\n",
       "      <td>1</td>\n",
       "      <td>{'acc': 0.7320109280437123, 'f1': 0.5551148898...</td>\n",
       "      <td>{'acc': 0.7318909275637102, 'f1': 0.5548677990...</td>\n",
       "    </tr>\n",
       "    <tr>\n",
       "      <th>1</th>\n",
       "      <td>0.00000</td>\n",
       "      <td>0.0</td>\n",
       "      <td>2</td>\n",
       "      <td>{'acc': 0.7753611014444058, 'f1': 0.6506382345...</td>\n",
       "      <td>{'acc': 0.7755271021084084, 'f1': 0.6508277956...</td>\n",
       "    </tr>\n",
       "    <tr>\n",
       "      <th>2</th>\n",
       "      <td>0.00000</td>\n",
       "      <td>0.0</td>\n",
       "      <td>3</td>\n",
       "      <td>{'acc': 0.7911331645326581, 'f1': 0.6781310514...</td>\n",
       "      <td>{'acc': 0.7909551638206552, 'f1': 0.6778600827...</td>\n",
       "    </tr>\n",
       "    <tr>\n",
       "      <th>3</th>\n",
       "      <td>0.00000</td>\n",
       "      <td>0.0</td>\n",
       "      <td>4</td>\n",
       "      <td>{'acc': 0.7966011864047456, 'f1': 0.6871745936...</td>\n",
       "      <td>{'acc': 0.7964951859807439, 'f1': 0.6869276863...</td>\n",
       "    </tr>\n",
       "    <tr>\n",
       "      <th>4</th>\n",
       "      <td>0.50000</td>\n",
       "      <td>0.0</td>\n",
       "      <td>1</td>\n",
       "      <td>{'acc': 0.7063868255473023, 'f1': 0.4413643703...</td>\n",
       "      <td>{'acc': 0.7062348249392997, 'f1': 0.4408187846...</td>\n",
       "    </tr>\n",
       "    <tr>\n",
       "      <th>5</th>\n",
       "      <td>0.50000</td>\n",
       "      <td>0.0</td>\n",
       "      <td>2</td>\n",
       "      <td>{'acc': 0.7312149248596994, 'f1': 0.4724424382...</td>\n",
       "      <td>{'acc': 0.7311509246036985, 'f1': 0.4723906394...</td>\n",
       "    </tr>\n",
       "    <tr>\n",
       "      <th>6</th>\n",
       "      <td>0.50000</td>\n",
       "      <td>0.0</td>\n",
       "      <td>3</td>\n",
       "      <td>{'acc': 0.740938963755855, 'f1': 0.51030474268...</td>\n",
       "      <td>{'acc': 0.7408909635638542, 'f1': 0.5100450718...</td>\n",
       "    </tr>\n",
       "    <tr>\n",
       "      <th>7</th>\n",
       "      <td>0.50000</td>\n",
       "      <td>0.0</td>\n",
       "      <td>4</td>\n",
       "      <td>{'acc': 0.755443021772087, 'f1': 0.56870966101...</td>\n",
       "      <td>{'acc': 0.7553790215160862, 'f1': 0.5685758636...</td>\n",
       "    </tr>\n",
       "    <tr>\n",
       "      <th>8</th>\n",
       "      <td>0.10000</td>\n",
       "      <td>0.0</td>\n",
       "      <td>1</td>\n",
       "      <td>{'acc': 0.7211768847075387, 'f1': 0.5080202725...</td>\n",
       "      <td>{'acc': 0.7210948843795375, 'f1': 0.5078234895...</td>\n",
       "    </tr>\n",
       "    <tr>\n",
       "      <th>9</th>\n",
       "      <td>0.10000</td>\n",
       "      <td>0.0</td>\n",
       "      <td>2</td>\n",
       "      <td>{'acc': 0.7686590746362986, 'f1': 0.6145906460...</td>\n",
       "      <td>{'acc': 0.7684910739642957, 'f1': 0.6143284455...</td>\n",
       "    </tr>\n",
       "    <tr>\n",
       "      <th>10</th>\n",
       "      <td>0.10000</td>\n",
       "      <td>0.0</td>\n",
       "      <td>3</td>\n",
       "      <td>{'acc': 0.7804531218124873, 'f1': 0.6393215375...</td>\n",
       "      <td>{'acc': 0.7806191224764899, 'f1': 0.6394794965...</td>\n",
       "    </tr>\n",
       "    <tr>\n",
       "      <th>11</th>\n",
       "      <td>0.10000</td>\n",
       "      <td>0.0</td>\n",
       "      <td>4</td>\n",
       "      <td>{'acc': 0.7808171232684931, 'f1': 0.6437748364...</td>\n",
       "      <td>{'acc': 0.7807271229084917, 'f1': 0.6436441260...</td>\n",
       "    </tr>\n",
       "    <tr>\n",
       "      <th>12</th>\n",
       "      <td>0.01000</td>\n",
       "      <td>0.0</td>\n",
       "      <td>1</td>\n",
       "      <td>{'acc': 0.7312029248116994, 'f1': 0.5509897539...</td>\n",
       "      <td>{'acc': 0.7310549242196968, 'f1': 0.5507175008...</td>\n",
       "    </tr>\n",
       "    <tr>\n",
       "      <th>13</th>\n",
       "      <td>0.01000</td>\n",
       "      <td>0.0</td>\n",
       "      <td>2</td>\n",
       "      <td>{'acc': 0.7755851023404094, 'f1': 0.6483851968...</td>\n",
       "      <td>{'acc': 0.7754871019484079, 'f1': 0.6482838066...</td>\n",
       "    </tr>\n",
       "    <tr>\n",
       "      <th>14</th>\n",
       "      <td>0.01000</td>\n",
       "      <td>0.0</td>\n",
       "      <td>3</td>\n",
       "      <td>{'acc': 0.7903051612206449, 'f1': 0.6734386431...</td>\n",
       "      <td>{'acc': 0.7901431605726422, 'f1': 0.6732100400...</td>\n",
       "    </tr>\n",
       "    <tr>\n",
       "      <th>15</th>\n",
       "      <td>0.01000</td>\n",
       "      <td>0.0</td>\n",
       "      <td>4</td>\n",
       "      <td>{'acc': 0.7946091784367137, 'f1': 0.6802411383...</td>\n",
       "      <td>{'acc': 0.7942511770047079, 'f1': 0.6797691990...</td>\n",
       "    </tr>\n",
       "    <tr>\n",
       "      <th>16</th>\n",
       "      <td>0.00100</td>\n",
       "      <td>0.0</td>\n",
       "      <td>1</td>\n",
       "      <td>{'acc': 0.7317189268757076, 'f1': 0.5546184652...</td>\n",
       "      <td>{'acc': 0.731750927003708, 'f1': 0.55456515081...</td>\n",
       "    </tr>\n",
       "    <tr>\n",
       "      <th>17</th>\n",
       "      <td>0.00100</td>\n",
       "      <td>0.0</td>\n",
       "      <td>2</td>\n",
       "      <td>{'acc': 0.7754891019564077, 'f1': 0.6506899398...</td>\n",
       "      <td>{'acc': 0.7755311021244085, 'f1': 0.6507709383...</td>\n",
       "    </tr>\n",
       "    <tr>\n",
       "      <th>18</th>\n",
       "      <td>0.00100</td>\n",
       "      <td>0.0</td>\n",
       "      <td>3</td>\n",
       "      <td>{'acc': 0.7910551642206568, 'f1': 0.6775306903...</td>\n",
       "      <td>{'acc': 0.7907671630686522, 'f1': 0.6770379351...</td>\n",
       "    </tr>\n",
       "    <tr>\n",
       "      <th>19</th>\n",
       "      <td>0.00100</td>\n",
       "      <td>0.0</td>\n",
       "      <td>4</td>\n",
       "      <td>{'acc': 0.7964431857727431, 'f1': 0.6863979811...</td>\n",
       "      <td>{'acc': 0.7964151856607428, 'f1': 0.6863454222...</td>\n",
       "    </tr>\n",
       "    <tr>\n",
       "      <th>20</th>\n",
       "      <td>0.00010</td>\n",
       "      <td>0.0</td>\n",
       "      <td>1</td>\n",
       "      <td>{'acc': 0.7319609278437115, 'f1': 0.5550481941...</td>\n",
       "      <td>{'acc': 0.7319589278357114, 'f1': 0.5549772767...</td>\n",
       "    </tr>\n",
       "    <tr>\n",
       "      <th>21</th>\n",
       "      <td>0.00010</td>\n",
       "      <td>0.0</td>\n",
       "      <td>2</td>\n",
       "      <td>{'acc': 0.7753911015644063, 'f1': 0.6507122424...</td>\n",
       "      <td>{'acc': 0.7754751019004077, 'f1': 0.6507837279...</td>\n",
       "    </tr>\n",
       "    <tr>\n",
       "      <th>22</th>\n",
       "      <td>0.00010</td>\n",
       "      <td>0.0</td>\n",
       "      <td>3</td>\n",
       "      <td>{'acc': 0.7911991647966592, 'f1': 0.6781447102...</td>\n",
       "      <td>{'acc': 0.7910591642366569, 'f1': 0.6779175671...</td>\n",
       "    </tr>\n",
       "    <tr>\n",
       "      <th>23</th>\n",
       "      <td>0.00010</td>\n",
       "      <td>0.0</td>\n",
       "      <td>4</td>\n",
       "      <td>{'acc': 0.7965451861807447, 'f1': 0.6868592286...</td>\n",
       "      <td>{'acc': 0.7963431853727415, 'f1': 0.6865660292...</td>\n",
       "    </tr>\n",
       "    <tr>\n",
       "      <th>24</th>\n",
       "      <td>0.00001</td>\n",
       "      <td>0.0</td>\n",
       "      <td>1</td>\n",
       "      <td>{'acc': 0.7320029280117121, 'f1': 0.5551045771...</td>\n",
       "      <td>{'acc': 0.7318829275317101, 'f1': 0.5548544787...</td>\n",
       "    </tr>\n",
       "    <tr>\n",
       "      <th>25</th>\n",
       "      <td>0.00001</td>\n",
       "      <td>0.0</td>\n",
       "      <td>2</td>\n",
       "      <td>{'acc': 0.7753651014604058, 'f1': 0.6506423257...</td>\n",
       "      <td>{'acc': 0.7755151020604082, 'f1': 0.6508243192...</td>\n",
       "    </tr>\n",
       "    <tr>\n",
       "      <th>26</th>\n",
       "      <td>0.00001</td>\n",
       "      <td>0.0</td>\n",
       "      <td>3</td>\n",
       "      <td>{'acc': 0.7911171644686578, 'f1': 0.6781045556...</td>\n",
       "      <td>{'acc': 0.7909791639166558, 'f1': 0.6778732912...</td>\n",
       "    </tr>\n",
       "    <tr>\n",
       "      <th>27</th>\n",
       "      <td>0.00001</td>\n",
       "      <td>0.0</td>\n",
       "      <td>4</td>\n",
       "      <td>{'acc': 0.7966331865327461, 'f1': 0.6871410296...</td>\n",
       "      <td>{'acc': 0.7964751859007436, 'f1': 0.6867866399...</td>\n",
       "    </tr>\n",
       "  </tbody>\n",
       "</table>\n",
       "</div>"
      ],
      "text/plain": [
       "     lambda  gamma  degree                                                 tr  \\\n",
       "0   0.00000    0.0       1  {'acc': 0.7320109280437123, 'f1': 0.5551148898...   \n",
       "1   0.00000    0.0       2  {'acc': 0.7753611014444058, 'f1': 0.6506382345...   \n",
       "2   0.00000    0.0       3  {'acc': 0.7911331645326581, 'f1': 0.6781310514...   \n",
       "3   0.00000    0.0       4  {'acc': 0.7966011864047456, 'f1': 0.6871745936...   \n",
       "4   0.50000    0.0       1  {'acc': 0.7063868255473023, 'f1': 0.4413643703...   \n",
       "5   0.50000    0.0       2  {'acc': 0.7312149248596994, 'f1': 0.4724424382...   \n",
       "6   0.50000    0.0       3  {'acc': 0.740938963755855, 'f1': 0.51030474268...   \n",
       "7   0.50000    0.0       4  {'acc': 0.755443021772087, 'f1': 0.56870966101...   \n",
       "8   0.10000    0.0       1  {'acc': 0.7211768847075387, 'f1': 0.5080202725...   \n",
       "9   0.10000    0.0       2  {'acc': 0.7686590746362986, 'f1': 0.6145906460...   \n",
       "10  0.10000    0.0       3  {'acc': 0.7804531218124873, 'f1': 0.6393215375...   \n",
       "11  0.10000    0.0       4  {'acc': 0.7808171232684931, 'f1': 0.6437748364...   \n",
       "12  0.01000    0.0       1  {'acc': 0.7312029248116994, 'f1': 0.5509897539...   \n",
       "13  0.01000    0.0       2  {'acc': 0.7755851023404094, 'f1': 0.6483851968...   \n",
       "14  0.01000    0.0       3  {'acc': 0.7903051612206449, 'f1': 0.6734386431...   \n",
       "15  0.01000    0.0       4  {'acc': 0.7946091784367137, 'f1': 0.6802411383...   \n",
       "16  0.00100    0.0       1  {'acc': 0.7317189268757076, 'f1': 0.5546184652...   \n",
       "17  0.00100    0.0       2  {'acc': 0.7754891019564077, 'f1': 0.6506899398...   \n",
       "18  0.00100    0.0       3  {'acc': 0.7910551642206568, 'f1': 0.6775306903...   \n",
       "19  0.00100    0.0       4  {'acc': 0.7964431857727431, 'f1': 0.6863979811...   \n",
       "20  0.00010    0.0       1  {'acc': 0.7319609278437115, 'f1': 0.5550481941...   \n",
       "21  0.00010    0.0       2  {'acc': 0.7753911015644063, 'f1': 0.6507122424...   \n",
       "22  0.00010    0.0       3  {'acc': 0.7911991647966592, 'f1': 0.6781447102...   \n",
       "23  0.00010    0.0       4  {'acc': 0.7965451861807447, 'f1': 0.6868592286...   \n",
       "24  0.00001    0.0       1  {'acc': 0.7320029280117121, 'f1': 0.5551045771...   \n",
       "25  0.00001    0.0       2  {'acc': 0.7753651014604058, 'f1': 0.6506423257...   \n",
       "26  0.00001    0.0       3  {'acc': 0.7911171644686578, 'f1': 0.6781045556...   \n",
       "27  0.00001    0.0       4  {'acc': 0.7966331865327461, 'f1': 0.6871410296...   \n",
       "\n",
       "                                                   te  \n",
       "0   {'acc': 0.7318909275637102, 'f1': 0.5548677990...  \n",
       "1   {'acc': 0.7755271021084084, 'f1': 0.6508277956...  \n",
       "2   {'acc': 0.7909551638206552, 'f1': 0.6778600827...  \n",
       "3   {'acc': 0.7964951859807439, 'f1': 0.6869276863...  \n",
       "4   {'acc': 0.7062348249392997, 'f1': 0.4408187846...  \n",
       "5   {'acc': 0.7311509246036985, 'f1': 0.4723906394...  \n",
       "6   {'acc': 0.7408909635638542, 'f1': 0.5100450718...  \n",
       "7   {'acc': 0.7553790215160862, 'f1': 0.5685758636...  \n",
       "8   {'acc': 0.7210948843795375, 'f1': 0.5078234895...  \n",
       "9   {'acc': 0.7684910739642957, 'f1': 0.6143284455...  \n",
       "10  {'acc': 0.7806191224764899, 'f1': 0.6394794965...  \n",
       "11  {'acc': 0.7807271229084917, 'f1': 0.6436441260...  \n",
       "12  {'acc': 0.7310549242196968, 'f1': 0.5507175008...  \n",
       "13  {'acc': 0.7754871019484079, 'f1': 0.6482838066...  \n",
       "14  {'acc': 0.7901431605726422, 'f1': 0.6732100400...  \n",
       "15  {'acc': 0.7942511770047079, 'f1': 0.6797691990...  \n",
       "16  {'acc': 0.731750927003708, 'f1': 0.55456515081...  \n",
       "17  {'acc': 0.7755311021244085, 'f1': 0.6507709383...  \n",
       "18  {'acc': 0.7907671630686522, 'f1': 0.6770379351...  \n",
       "19  {'acc': 0.7964151856607428, 'f1': 0.6863454222...  \n",
       "20  {'acc': 0.7319589278357114, 'f1': 0.5549772767...  \n",
       "21  {'acc': 0.7754751019004077, 'f1': 0.6507837279...  \n",
       "22  {'acc': 0.7910591642366569, 'f1': 0.6779175671...  \n",
       "23  {'acc': 0.7963431853727415, 'f1': 0.6865660292...  \n",
       "24  {'acc': 0.7318829275317101, 'f1': 0.5548544787...  \n",
       "25  {'acc': 0.7755151020604082, 'f1': 0.6508243192...  \n",
       "26  {'acc': 0.7909791639166558, 'f1': 0.6778732912...  \n",
       "27  {'acc': 0.7964751859007436, 'f1': 0.6867866399...  "
      ]
     },
     "execution_count": 26,
     "metadata": {},
     "output_type": "execute_result"
    }
   ],
   "source": [
    "pd.DataFrame(results)"
   ]
  },
  {
   "cell_type": "code",
   "execution_count": 27,
   "metadata": {},
   "outputs": [
    {
     "data": {
      "text/plain": [
       "{'lambda': 0,\n",
       " 'gamma': 0.0,\n",
       " 'degree': 4,\n",
       " 'acc': 0.7964951859807439,\n",
       " 'f1': 0.6869276863454647}"
      ]
     },
     "execution_count": 27,
     "metadata": {},
     "output_type": "execute_result"
    }
   ],
   "source": [
    "best_res"
   ]
  },
  {
   "cell_type": "code",
   "execution_count": 28,
   "metadata": {},
   "outputs": [
    {
     "data": {
      "text/html": [
       "<div>\n",
       "<style scoped>\n",
       "    .dataframe tbody tr th:only-of-type {\n",
       "        vertical-align: middle;\n",
       "    }\n",
       "\n",
       "    .dataframe tbody tr th {\n",
       "        vertical-align: top;\n",
       "    }\n",
       "\n",
       "    .dataframe thead th {\n",
       "        text-align: right;\n",
       "    }\n",
       "</style>\n",
       "<table border=\"1\" class=\"dataframe\">\n",
       "  <thead>\n",
       "    <tr style=\"text-align: right;\">\n",
       "      <th></th>\n",
       "      <th>lambda</th>\n",
       "      <th>gamma</th>\n",
       "      <th>degree</th>\n",
       "      <th>acc</th>\n",
       "      <th>f1</th>\n",
       "    </tr>\n",
       "  </thead>\n",
       "  <tbody>\n",
       "    <tr>\n",
       "      <th>best_res</th>\n",
       "      <td>0</td>\n",
       "      <td>0.0</td>\n",
       "      <td>4</td>\n",
       "      <td>0.796495</td>\n",
       "      <td>0.686928</td>\n",
       "    </tr>\n",
       "  </tbody>\n",
       "</table>\n",
       "</div>"
      ],
      "text/plain": [
       "          lambda  gamma  degree       acc        f1\n",
       "best_res       0    0.0       4  0.796495  0.686928"
      ]
     },
     "execution_count": 28,
     "metadata": {},
     "output_type": "execute_result"
    }
   ],
   "source": [
    "pd.DataFrame(best_res, index=[\"best_res\"])"
   ]
  },
  {
   "cell_type": "markdown",
   "metadata": {},
   "source": [
    "# Run one CV for each PRI_jet_num model"
   ]
  },
  {
   "cell_type": "code",
   "execution_count": 30,
   "metadata": {},
   "outputs": [
    {
     "name": "stdout",
     "output_type": "stream",
     "text": [
      "===== Jet_num ===== 0\n",
      "===== Jet_num ===== 1\n",
      "===== Jet_num ===== 2\n",
      "===== Jet_num ===== 3\n"
     ]
    }
   ],
   "source": [
    "# Run multiple CV, on for each PRI_jet_num\n",
    "id = {}\n",
    "y_pred = {}\n",
    "best_results = []\n",
    "results = []\n",
    "\n",
    "lambdas = [0.5, 1e-1, 1e-2, 1e-3, 1e-4, 1e-5]\n",
    "gammas = [0.5e-7, 0.5e-07, 0.5e-06, 0.5e-6]\n",
    "degrees = [1, 2, 3, 4]\n",
    "\n",
    "# run all CV\n",
    "for i in range(4):\n",
    "    print(f\"===== Jet_num : {i} =====\")\n",
    "    y_r, x_r = get_split_by_jet_data(\n",
    "        y_tr, x_tr, i, jet_column=17\n",
    "    )  # 17 because no offset\n",
    "    # 0, 1e-1, 1e-2, 1e-3\n",
    "    res, best_res = run_cross_validation(\n",
    "        y_r, x_r, 3, is_regression=True, lambdas=lambdas, degrees=degrees\n",
    "    )\n",
    "\n",
    "    best_results.append(best_res)\n",
    "    results.append(res)"
   ]
  },
  {
   "cell_type": "code",
   "execution_count": 31,
   "metadata": {},
   "outputs": [
    {
     "name": "stdout",
     "output_type": "stream",
     "text": [
      "0 {'lambda': 1e-05, 'gamma': 0.0, 'degree': 4, 'acc': 0.8411602209944752, 'f1': 0.6510049057783657}\n",
      "----------------\n",
      "1 {'lambda': 0.0001, 'gamma': 0.0, 'degree': 4, 'acc': 0.780834107087589, 'f1': 0.6750973244087315}\n",
      "----------------\n",
      "2 {'lambda': 0.0001, 'gamma': 0.0, 'degree': 4, 'acc': 0.7811389666329225, 'f1': 0.7943995052104169}\n",
      "----------------\n",
      "3 {'lambda': 0.001, 'gamma': 0.0, 'degree': 4, 'acc': 0.7861848041869699, 'f1': 0.5794656944225623}\n",
      "----------------\n"
     ]
    }
   ],
   "source": [
    "for i, best_res in enumerate(best_results):\n",
    "    print(i, best_res)\n",
    "    print(\"----------------\")"
   ]
  },
  {
   "cell_type": "markdown",
   "metadata": {},
   "source": [
    "## Predictions"
   ]
  },
  {
   "cell_type": "markdown",
   "metadata": {},
   "source": [
    "### Predictions with regression and threshold"
   ]
  },
  {
   "cell_type": "code",
   "execution_count": 32,
   "metadata": {},
   "outputs": [
    {
     "name": "stdout",
     "output_type": "stream",
     "text": [
      "(250000,)\n",
      "(85667,) (568238,)\n",
      "(250000, 22)\n"
     ]
    }
   ],
   "source": [
    "print(y_tr.shape)\n",
    "print(y_tr[y_tr == 1].shape, y_te.shape)\n",
    "print(x_tr.shape)"
   ]
  },
  {
   "cell_type": "markdown",
   "metadata": {},
   "source": [
    "### Predictions with log_reg"
   ]
  },
  {
   "cell_type": "code",
   "execution_count": 33,
   "metadata": {},
   "outputs": [],
   "source": [
    "# # logistic_regression(y, tx, initial_w, max_iters, gamma)\n",
    "# # Fit the model\n",
    "# for i in range(1, 5):\n",
    "\n",
    "#     print(\"build poly {}\", i)\n",
    "#     xtr = x_tr.copy()\n",
    "#     xte = x_te.copy()\n",
    "\n",
    "#     xtr = build_poly(xtr, 3)\n",
    "#     xte = build_poly(xte, 3)\n",
    "\n",
    "#     assert(xtr[np.isnan(xtr)].shape[0] == 0)\n",
    "#     assert(xte[np.isnan(xte)].shape[0] == 0)\n",
    "\n",
    "#     #\n",
    "#     # =====\n",
    "#     #\n",
    "#     print(xtr.shape)\n",
    "#     id = {}\n",
    "#     y_pred = {}\n",
    "#     # lambdas = [0,0,-2000,0]\n",
    "#     lambdas = [13-3,1e-3,1e-3,1e-3]\n",
    "#     gammas = [0.5e-7,0.5e-07,0.5e-06,0.5e-6]\n",
    "#     for i in range(0,4):\n",
    "#         y_r,x_r = get_split_by_jet_data(y_tr,xtr,i)\n",
    "#         y_e,x_e = get_split_by_jet_data(ids_tests,xte,i)\n",
    "#         w_init = np.linalg.lstsq(x_r.T @ x_r, x_r.T @ y_r,rcond=None)[0]\n",
    "#         print(x_r.shape)\n",
    "#         w, loss = reg_logistic_regression(y_r, x_r, lambdas[i], w_init, 1000, gammas[i])\n",
    "#         print(loss)\n",
    "#         y_pred[i] = predict_log(w,x_e)\n",
    "#         id[i] = y_e\n",
    "\n",
    "#     y_predict = np.concatenate((y_pred[0],y_pred[1],y_pred[2],y_pred[3]),axis=0)\n",
    "#     ids_test = np.concatenate((id[0],id[1],id[2],id[3]),axis=0)\n",
    "\n",
    "#     print(len(y_predict[y_predict == 1]))\n",
    "#     print(len(y_predict[y_predict == -1]))\n",
    "#     print(len(y_predict))\n",
    "\n",
    "#     #10 1e-6 = 0.269576\n",
    "#     #5  1e-6 = 0.045 - 0.3248 - 0.5362 - 0.2657\n",
    "#     #change lambdas  and gammas for each jet"
   ]
  },
  {
   "cell_type": "markdown",
   "metadata": {},
   "source": [
    "# Prediction ridge regb"
   ]
  },
  {
   "cell_type": "code",
   "execution_count": 34,
   "metadata": {},
   "outputs": [
    {
     "name": "stdout",
     "output_type": "stream",
     "text": [
      "4\n",
      "0 accuracy 0.8414920981253691\n",
      "0 f1 0.6515281536735098\n",
      "1 accuracy 0.7813886309708037\n",
      "1 f1 0.6755846442377617\n",
      "2 accuracy 0.7827864784930229\n",
      "2 f1 0.7958738271558881\n",
      "3 accuracy 0.7885760693015701\n",
      "3 f1 0.5842058562555457\n",
      "175343\n",
      "392895\n",
      "568238\n",
      "=====================================\n",
      "Global scores\n",
      "accuracy 0.560528\n",
      "f1 0.32422192151556156\n"
     ]
    }
   ],
   "source": [
    "id = {}\n",
    "y_pred_tr = {}\n",
    "y_pred = {}\n",
    "# lambdas = [0,0,-2000,0]\n",
    "lambdas = [1e-5, 1e-4, 1e-4, 1e-3]\n",
    "gammas = [0.5e-7, 0.5e-07, 0.5e-06, 0.5e-6]\n",
    "print(best_results[0][\"degree\"])\n",
    "degrees = [\n",
    "    best_results[0][\"degree\"],\n",
    "    best_results[1][\"degree\"],\n",
    "    best_results[2][\"degree\"],\n",
    "    best_results[3][\"degree\"],\n",
    "]\n",
    "\n",
    "for i in range(0, 4):\n",
    "    xtr = build_poly(x_tr.copy(), degrees[i])\n",
    "    xte = build_poly(x_te.copy(), degrees[i])\n",
    "\n",
    "    y_r, x_r = get_split_by_jet_data(y_tr, xtr, i)\n",
    "    y_e, x_e = get_split_by_jet_data(ids_tests, xte, i)\n",
    "\n",
    "    # w, loss = reg_logistic_regression(y_r, x_r, lambdas[i], w_init, 1000, gammas[i])\n",
    "    w, loss = ridge_regression(y_r, x_r, lambda_=lambdas[i])\n",
    "    y_pred_tr[i] = predict_reg(w, x_r)\n",
    "    y_pred[i] = predict_reg(w, x_e)\n",
    "    id[i] = y_e\n",
    "\n",
    "    print(i, \"accuracy\", accuracy(y_r, y_pred_tr[i]))\n",
    "    print(i, \"f1\", f1_score(y_r, y_pred_tr[i]))\n",
    "\n",
    "\n",
    "y_predict_tr = np.concatenate(\n",
    "    (y_pred_tr[0], y_pred_tr[1], y_pred_tr[2], y_pred_tr[3]), axis=0\n",
    ")\n",
    "\n",
    "y_predict = np.concatenate((y_pred[0], y_pred[1], y_pred[2], y_pred[3]), axis=0)\n",
    "ids_test = np.concatenate((id[0], id[1], id[2], id[3]), axis=0)\n",
    "\n",
    "print(len(y_predict[y_predict == 1]))\n",
    "print(len(y_predict[y_predict == -1]))\n",
    "print(len(y_predict))\n",
    "\n",
    "print(\"=====================================\")\n",
    "print(\"Global scores\")\n",
    "print(\"accuracy\", accuracy(y_tr, y_predict_tr))\n",
    "print(\"f1\", f1_score(y_tr, y_predict_tr))\n",
    "\n",
    "\n",
    "create_csv_submission(ids_test, y_predict, \"../results/pred.csv\")"
   ]
  },
  {
   "cell_type": "code",
   "execution_count": 35,
   "metadata": {},
   "outputs": [
    {
     "name": "stdout",
     "output_type": "stream",
     "text": [
      "Training accuracy : 0.791008\n",
      "Training f1 : 0.6773540164015414\n",
      "0.30253050445628277\n"
     ]
    }
   ],
   "source": [
    "# Run on the train set\n",
    "x_pred = build_poly(x_tr, 3)\n",
    "w, loss = ridge_regression(y_tr, x_pred, lambda_=1e-3)\n",
    "y_pred = predict_reg(w, x_pred)\n",
    "\n",
    "print(\"Training accuracy : {}\".format(accuracy(y_tr, y_pred)))\n",
    "print(\"Training f1 : {}\".format(f1_score(y_tr, y_pred)))\n",
    "print(loss)\n",
    "\n",
    "# Run on the test set\n",
    "x_pred = build_poly(x_te, 3)\n",
    "y_pred = predict_reg(w, x_pred)\n",
    "\n",
    "y_test, input_test, ids_test = load_csv_data(DATA_FOLDER + TEST_FILE, False)\n",
    "\n",
    "create_csv_submission(ids_test, y_pred, \"../results/pred.csv\")"
   ]
  },
  {
   "cell_type": "code",
   "execution_count": 36,
   "metadata": {},
   "outputs": [],
   "source": [
    "# w_init, _ = least_squares(y_tr, xt_tr)\n",
    "\n",
    "# gamma_min = 2e-5\n",
    "# gamma_max = 35e-5\n",
    "# lambda_min = 0.0\n",
    "# lambda_max = 2000\n",
    "# lambdas = np.linspace(lambda_min, lambda_max, num_intervals_l)\n",
    "# gammas = np.linspace(gamma_min, gamma_max, num_intervals_g)\n",
    "\n",
    "# mean_loss_tr, mean_loss_te = run_cross_validation(y_tr, xt_tr, 2, w_init, 5, 2e-5,35e-5,0,2000,10,10)\n",
    "# print(\"Mean training mse: {}\".format(mean_loss_tr))\n",
    "# print(\"Mean test mse: {}\".format(mean_loss_te))\n",
    "\n",
    "# 2000  1e-05   = 0.69310\n",
    "# 722   1e-4    = 0.69307\n",
    "# 444   15e-05  = 0.69285\n",
    "# 222   25e-05  = 0.69265\n",
    "# 222   35e-05  = 0.69242"
   ]
  },
  {
   "cell_type": "markdown",
   "metadata": {},
   "source": [
    "### Balance dataset"
   ]
  },
  {
   "cell_type": "code",
   "execution_count": 37,
   "metadata": {},
   "outputs": [],
   "source": [
    "# nb_s = len(y_tr[y_tr == 1])\n",
    "# nb_b = len(y_tr) - nb_s\n",
    "# print(\"Signals: {} ({}%)\".format(nb_s, 100 * nb_s / len(x_tr)))\n",
    "# print(\"Backgrounds: {} ({}%)\".format(nb_b, 100 * nb_b / len(x_tr)))\n",
    "# print(\"Ratio signal / background: {}\".format(nb_s / nb_b))\n",
    "\n",
    "# x_tr_ds, y_tr_ds = balance_dataset(x_tr, y_tr) TODO"
   ]
  }
 ],
 "metadata": {
  "kernelspec": {
   "display_name": "Python 3.9.1 64-bit",
   "language": "python",
   "name": "python3"
  },
  "language_info": {
   "codemirror_mode": {
    "name": "ipython",
    "version": 3
   },
   "file_extension": ".py",
   "mimetype": "text/x-python",
   "name": "python",
   "nbconvert_exporter": "python",
   "pygments_lexer": "ipython3",
   "version": "3.9.1"
  },
  "orig_nbformat": 4,
  "vscode": {
   "interpreter": {
    "hash": "81794d4967e6c3204c66dcd87b604927b115b27c00565d3d43f05ba2f3a2cb0d"
   }
  }
 },
 "nbformat": 4,
 "nbformat_minor": 2
}
