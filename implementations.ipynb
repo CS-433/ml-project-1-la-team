{
 "cells": [
  {
   "cell_type": "code",
   "execution_count": 87,
   "metadata": {},
   "outputs": [],
   "source": [
    "import numpy as np"
   ]
  },
  {
   "cell_type": "code",
   "execution_count": 88,
   "metadata": {},
   "outputs": [],
   "source": [
    "DATA_FOLDER = './data/'\n",
    "TRAIN_FILE = './train.csv'\n",
    "TEST_FILE = './train.csv'\n",
    "\n",
    "NAN_VALUE = -999.0\n",
    "\n",
    "CUT_TRAIN_FILE = './train_cut.csv'"
   ]
  },
  {
   "cell_type": "code",
   "execution_count": 89,
   "metadata": {},
   "outputs": [],
   "source": [
    "# import pandas as pd\n",
    "# pd_df = pd.read_csv(DATA_FOLDER + CUT_TRAIN_FILE, sep=',', )\n",
    "# pd_df\n",
    "# to split the initial file\n",
    "# pd_df = pd.read_csv(DATA_FOLDER + TRAIN_FILE, sep=',', )\n",
    "# pd_df.iloc[:50].to_csv(DATA_FOLDER + 'train_cut.csv', sep=',', index=False)"
   ]
  },
  {
   "cell_type": "code",
   "execution_count": 91,
   "metadata": {},
   "outputs": [
    {
     "data": {
      "text/plain": [
       "array([[ 1.00000e+05,  1.00000e+00,  1.38470e+02, ...,  1.24000e+00,\n",
       "        -2.47500e+00,  1.13497e+02],\n",
       "       [ 1.00001e+05,  1.00000e+00,  1.60937e+02, ...,          nan,\n",
       "                 nan,  4.62260e+01],\n",
       "       [ 1.00002e+05,  1.00000e+00,          nan, ...,          nan,\n",
       "                 nan,  4.42510e+01],\n",
       "       ...,\n",
       "       [ 1.00047e+05,  1.00000e+00,  1.30079e+02, ...,          nan,\n",
       "                 nan,  0.00000e+00],\n",
       "       [ 1.00048e+05,  1.00000e+00,  1.67534e+02, ...,          nan,\n",
       "                 nan,  0.00000e+00],\n",
       "       [ 1.00049e+05,  1.00000e+00,  9.54070e+01, ...,          nan,\n",
       "                 nan,  0.00000e+00]])"
      ]
     },
     "execution_count": 91,
     "metadata": {},
     "output_type": "execute_result"
    }
   ],
   "source": [
    "train_df = np.genfromtxt(DATA_FOLDER + CUT_TRAIN_FILE, delimiter=',', \n",
    "                        skip_header=1, missing_values=['s', 'b'], filling_values=[\"0\", \"1\"])\n",
    "\n",
    "train_df[train_df == NAN_VALUE] = np.nan"
   ]
  },
  {
   "cell_type": "code",
   "execution_count": 92,
   "metadata": {},
   "outputs": [],
   "source": [
    "def replace_nan_by_mean(feature):\n",
    "    \"\"\"input : a columns of the dataset\"\"\"\n",
    "    feature[np.isnan(feature)] = np.nanmean(feature)\n",
    "    return feature\n",
    "\n",
    "arr_test = np.array([[1, 2, 3, 4], [10, np.nan, 11, 12], [np.nan, 13, 14, np.nan], [np.nan, 15, 16, 17]])\n",
    "np.apply_along_axis(replace_nan_by_mean, 0, arr_test)\n",
    "\n",
    "assert(np.allclose(arr_test[1, 1], np.nanmean(arr_test[:, 1]))) #, \"mean note computed correctly\""
   ]
  },
  {
   "cell_type": "code",
   "execution_count": 93,
   "metadata": {},
   "outputs": [
    {
     "data": {
      "text/plain": [
       "array([[ 1.00000000e+05,  1.00000000e+00,  1.38470000e+02, ...,\n",
       "         1.24000000e+00, -2.47500000e+00,  1.13497000e+02],\n",
       "       [ 1.00001000e+05,  1.00000000e+00,  1.60937000e+02, ...,\n",
       "         4.03589280e+03,  4.03589280e+03,  4.62260000e+01],\n",
       "       [ 1.00002000e+05,  1.00000000e+00,  4.21229792e+03, ...,\n",
       "         4.21229792e+03,  4.21229792e+03,  4.42510000e+01],\n",
       "       ...,\n",
       "       [ 1.00047000e+05,  1.00000000e+00,  1.30079000e+02, ...,\n",
       "         4.57523427e+03,  4.57523427e+03,  0.00000000e+00],\n",
       "       [ 1.00048000e+05,  1.00000000e+00,  1.67534000e+02, ...,\n",
       "         4.59059373e+03,  4.59059373e+03,  0.00000000e+00],\n",
       "       [ 1.00049000e+05,  1.00000000e+00,  9.54070000e+01, ...,\n",
       "         4.56598936e+03,  4.56598936e+03,  0.00000000e+00]])"
      ]
     },
     "execution_count": 93,
     "metadata": {},
     "output_type": "execute_result"
    }
   ],
   "source": [
    "train_df = np.apply_along_axis(replace_nan_by_mean, 1, train_df)\n",
    "assert(train_df[np.isnan(train_df)].shape[0] == 0)"
   ]
  }
 ],
 "metadata": {
  "kernelspec": {
   "display_name": "Python 3.9.13 ('ml')",
   "language": "python",
   "name": "python3"
  },
  "language_info": {
   "codemirror_mode": {
    "name": "ipython",
    "version": 3
   },
   "file_extension": ".py",
   "mimetype": "text/x-python",
   "name": "python",
   "nbconvert_exporter": "python",
   "pygments_lexer": "ipython3",
   "version": "3.9.13"
  },
  "orig_nbformat": 4,
  "vscode": {
   "interpreter": {
    "hash": "8d6cc526fcb8a0758310ed89b8dab3b91f3ec4de7507d09c9bf6f1d1fde12f3a"
   }
  }
 },
 "nbformat": 4,
 "nbformat_minor": 2
}
