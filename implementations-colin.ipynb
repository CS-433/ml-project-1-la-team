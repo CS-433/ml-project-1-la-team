{
 "cells": [
  {
   "cell_type": "markdown",
   "metadata": {},
   "source": [
    "## Imports and global variables"
   ]
  },
  {
   "cell_type": "code",
   "execution_count": 199,
   "metadata": {},
   "outputs": [],
   "source": [
    "import numpy as np\n",
    "\n",
    "import sys\n",
    "sys.path.append(\"./src/\")"
   ]
  },
  {
   "cell_type": "code",
   "execution_count": 200,
   "metadata": {},
   "outputs": [
    {
     "name": "stdout",
     "output_type": "stream",
     "text": [
      "The autoreload extension is already loaded. To reload it, use:\n",
      "  %reload_ext autoreload\n"
     ]
    }
   ],
   "source": [
    "from implementations import *\n",
    "from helpers import *\n",
    "\n",
    "%load_ext autoreload\n",
    "%autoreload 2\n",
    "%matplotlib inline"
   ]
  },
  {
   "cell_type": "code",
   "execution_count": 201,
   "metadata": {},
   "outputs": [],
   "source": [
    "DATA_FOLDER = './data/'\n",
    "TRAIN_FILE = './train.csv'\n",
    "TEST_FILE = './test.csv'\n",
    "\n",
    "NAN_VALUE = -999.0\n",
    "INTEGER_COLUMN = 22 # 24 in raw csv file, but 23 when id and prediction column are removed"
   ]
  },
  {
   "cell_type": "markdown",
   "metadata": {},
   "source": [
    "# Import dataset\n",
    "Import dataset and apply basic transformations to be able to use it afterwards : \n",
    "- Replace labels chars by integers\n",
    "- Standardize training df\n",
    "- Replace missing values by the mean"
   ]
  },
  {
   "cell_type": "code",
   "execution_count": 202,
   "metadata": {},
   "outputs": [
    {
     "name": "stdout",
     "output_type": "stream",
     "text": [
      "x_tr shape :  (250000, 30)\n",
      "x_te shape :  (568238, 30)\n",
      "x_tr range : -4.811018 371.783360\n",
      "x_te range : -5.074944 371.783360\n"
     ]
    }
   ],
   "source": [
    "# Load data\n",
    "x_tr, y_tr = load_data(DATA_FOLDER + TRAIN_FILE, sub_sample=False)\n",
    "x_te, y_te = load_data(DATA_FOLDER + TEST_FILE, sub_sample=False)\n",
    "\n",
    "print(\"x_tr shape : \", x_tr.shape)\n",
    "print(\"x_te shape : \", x_te.shape)\n",
    "\n",
    "# Define missing values as NAN\n",
    "x_tr[x_tr == NAN_VALUE] = np.nan\n",
    "x_te[x_te == NAN_VALUE] = np.nan\n",
    "\n",
    "# Standardize before replacing missing values\n",
    "x_tr, mean_x, std_x = standardize_training(x_tr, missing_values=True)\n",
    "x_te = standardize_test(x_te, mean_x, std_x)\n",
    "\n",
    "# Replace missing data by the mean\n",
    "x_tr = replace_nan_by_means(x_tr, mean_dataset=mean_x)\n",
    "x_te = replace_nan_by_means(x_te, mean_dataset=mean_x)\n",
    "\n",
    "assert(x_tr[np.isnan(x_tr)].shape[0] == 0)\n",
    "assert(x_te[np.isnan(x_te)].shape[0] == 0)\n",
    "\n",
    "print(\"x_tr range : %f %f\" % (np.nanmin(x_tr), np.nanmax(x_tr)))\n",
    "print(\"x_te range : %f %f\" % (np.nanmin(x_te), np.nanmax(x_te)))"
   ]
  },
  {
   "cell_type": "code",
   "execution_count": 204,
   "metadata": {},
   "outputs": [
    {
     "name": "stdout",
     "output_type": "stream",
     "text": [
      "Training loss : 0.088658\n",
      "Test loss : 0.253838\n"
     ]
    }
   ],
   "source": [
    "# Add bias term to x\n",
    "xt_tr = add_offset(x_tr)\n",
    "xt_te = add_offset(x_te)\n",
    "\n",
    "# Fit a model\n",
    "w, loss_tr = least_squares(y_tr, x_tr)\n",
    "loss_te = compute_mse(y_te, x_te, w)\n",
    "\n",
    "print(\"Training loss : %f\" % loss_tr)\n",
    "print(\"Test loss : %f\" % loss_te)"
   ]
  }
 ],
 "metadata": {
  "kernelspec": {
   "display_name": "Python 3.9.12 ('base')",
   "language": "python",
   "name": "python3"
  },
  "language_info": {
   "codemirror_mode": {
    "name": "ipython",
    "version": 3
   },
   "file_extension": ".py",
   "mimetype": "text/x-python",
   "name": "python",
   "nbconvert_exporter": "python",
   "pygments_lexer": "ipython3",
   "version": "3.9.12"
  },
  "orig_nbformat": 4,
  "vscode": {
   "interpreter": {
    "hash": "4b7477865c3b10d64ced3258d391994d31c5d5216fb1f6f71b5cb53c89252681"
   }
  }
 },
 "nbformat": 4,
 "nbformat_minor": 2
}
