{
 "cells": [
  {
   "cell_type": "markdown",
   "metadata": {},
   "source": [
    "## Imports and global variables"
   ]
  },
  {
   "cell_type": "code",
   "execution_count": 22,
   "metadata": {},
   "outputs": [],
   "source": [
    "import numpy as np\n",
    "\n",
    "import sys\n",
    "sys.path.append(\"./src/\")"
   ]
  },
  {
   "cell_type": "code",
   "execution_count": 23,
   "metadata": {},
   "outputs": [
    {
     "name": "stdout",
     "output_type": "stream",
     "text": [
      "The autoreload extension is already loaded. To reload it, use:\n",
      "  %reload_ext autoreload\n"
     ]
    }
   ],
   "source": [
    "from implementations import *\n",
    "from helpers import *\n",
    "\n",
    "%load_ext autoreload\n",
    "%autoreload 2\n",
    "%matplotlib inline"
   ]
  },
  {
   "cell_type": "code",
   "execution_count": 24,
   "metadata": {},
   "outputs": [],
   "source": [
    "DATA_FOLDER = './data/'\n",
    "TRAIN_FILE = './train.csv'\n",
    "TEST_FILE = './train.csv'\n",
    "\n",
    "NAN_VALUE = -999.0"
   ]
  },
  {
   "cell_type": "markdown",
   "metadata": {},
   "source": [
    "# Import dataset\n",
    "Import dataset and apply basic transformations to be able to use it afterwards : \n",
    "- Replace labels chars by integers\n",
    "- Standardize training df\n",
    "- Replace missing values by the mean"
   ]
  },
  {
   "cell_type": "code",
   "execution_count": 25,
   "metadata": {},
   "outputs": [
    {
     "data": {
      "text/plain": [
       "array([[ 0.73640279,  0.53680972,  0.64296201, ...,  0.42090251,\n",
       "         0.41236149,  0.67898831],\n",
       "       [ 0.78805581,  0.57615357,  0.65539534, ..., -1.87871129,\n",
       "        -1.87871129,  0.52432811],\n",
       "       [-1.87871129,  0.79089515,  0.70762543, ..., -1.87871129,\n",
       "        -1.87871129,  0.51978746],\n",
       "       ...,\n",
       "       [ 0.71711136,  0.54067214,  0.64206078, ..., -1.87871129,\n",
       "        -1.87871129,  0.41805167],\n",
       "       [ 0.80322273,  0.51295005,  0.70154441, ..., -1.87871129,\n",
       "        -1.87871129,  0.41805167],\n",
       "       [ 0.63739828,  0.46767462,  0.57384991, ..., -1.87871129,\n",
       "        -1.87871129,  0.41805167]])"
      ]
     },
     "execution_count": 25,
     "metadata": {},
     "output_type": "execute_result"
    }
   ],
   "source": [
    "# Load data\n",
    "x, y = load_data(DATA_FOLDER + TRAIN_FILE, sub_sample=True)\n",
    "\n",
    "# Standardize before replacing missing values\n",
    "x, _, _ = standardize(x, missing_values=True)\n",
    "\n",
    "# Replace missing data by the mean\n",
    "x[x == NAN_VALUE] = np.nan\n",
    "x = replace_nan_by_means(x)\n",
    "\n",
    "assert(x[np.isnan(x)].shape[0] == 0)\n",
    "x"
   ]
  },
  {
   "cell_type": "code",
   "execution_count": 26,
   "metadata": {},
   "outputs": [
    {
     "name": "stdout",
     "output_type": "stream",
     "text": [
      "Training loss : 0.000000\n",
      "Test loss : 15.623270\n"
     ]
    }
   ],
   "source": [
    "# Add bias term to x\n",
    "xt = np.hstack((np.ones(x.shape[0])[:, np.newaxis], x))\n",
    "\n",
    "# Split train and test sets\n",
    "x_tr, x_te, y_tr, y_te = split_data(xt, y, 0.2)\n",
    "\n",
    "# Fit a model\n",
    "w, loss_tr = least_squares(y_tr, x_tr)\n",
    "loss_te = compute_mse(y_te, x_te, w)\n",
    "\n",
    "print(\"Training loss : %f\" % loss_tr)\n",
    "print(\"Test loss : %f\" % loss_te)"
   ]
  }
 ],
 "metadata": {
  "kernelspec": {
   "display_name": "Python 3.9.12 ('base')",
   "language": "python",
   "name": "python3"
  },
  "language_info": {
   "codemirror_mode": {
    "name": "ipython",
    "version": 3
   },
   "file_extension": ".py",
   "mimetype": "text/x-python",
   "name": "python",
   "nbconvert_exporter": "python",
   "pygments_lexer": "ipython3",
   "version": "3.9.12"
  },
  "orig_nbformat": 4,
  "vscode": {
   "interpreter": {
    "hash": "4b7477865c3b10d64ced3258d391994d31c5d5216fb1f6f71b5cb53c89252681"
   }
  }
 },
 "nbformat": 4,
 "nbformat_minor": 2
}
