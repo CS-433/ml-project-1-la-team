{
 "cells": [
  {
   "cell_type": "markdown",
   "metadata": {},
   "source": [
    "## Imports and global variables"
   ]
  },
  {
   "cell_type": "code",
   "execution_count": 616,
   "metadata": {},
   "outputs": [],
   "source": [
    "import math\n",
    "import numpy as np\n",
    "import matplotlib.pyplot as plt\n",
    "import sys\n",
    "import csv"
   ]
  },
  {
   "cell_type": "code",
   "execution_count": 617,
   "metadata": {},
   "outputs": [
    {
     "name": "stdout",
     "output_type": "stream",
     "text": [
      "The autoreload extension is already loaded. To reload it, use:\n",
      "  %reload_ext autoreload\n"
     ]
    }
   ],
   "source": [
    "from implementations import *\n",
    "from helpers import *\n",
    "\n",
    "%load_ext autoreload\n",
    "%autoreload 2\n",
    "%matplotlib inline"
   ]
  },
  {
   "cell_type": "code",
   "execution_count": 618,
   "metadata": {},
   "outputs": [],
   "source": [
    "DATA_FOLDER = \"./data/\"\n",
    "TRAIN_FILE = \"./train.csv\"\n",
    "TEST_FILE = \"./test.csv\"\n",
    "IS_DEBUG = True\n",
    "NAN_VALUE = -999.0\n",
    "INTEGER_COLUMN = (\n",
    "    22  # 24 in raw csv file, but 23 when id and prediction column are removed\n",
    ")\n",
    "\n",
    "# For debug purpose only\n",
    "SUB_SAMPLE = False"
   ]
  },
  {
   "cell_type": "markdown",
   "metadata": {},
   "source": [
    "# Import dataset"
   ]
  },
  {
   "cell_type": "code",
   "execution_count": 619,
   "metadata": {},
   "outputs": [
    {
     "name": "stdout",
     "output_type": "stream",
     "text": [
      "x_tr shape : (250000, 30), y_tr shape : (250000, 1)\n",
      "x_te shape : (568238, 30), y_te shape : (568238, 1)\n"
     ]
    }
   ],
   "source": [
    "# Load data\n",
    "x_tr, y_tr = load_data(\n",
    "    DATA_FOLDER + TRAIN_FILE, sub_sample=SUB_SAMPLE\n",
    ")  # TODO use the provided method\n",
    "x_te, y_te = load_data(DATA_FOLDER + TEST_FILE, sub_sample=SUB_SAMPLE)\n",
    "\n",
    "print(\"x_tr shape : {}, y_tr shape : {}\".format(x_tr.shape, y_tr.shape))\n",
    "print(\"x_te shape : {}, y_te shape : {}\".format(x_te.shape, y_te.shape))\n",
    "\n",
    "# Define missing values as NAN\n",
    "x_tr[x_tr == NAN_VALUE] = np.nan\n",
    "x_te[x_te == NAN_VALUE] = np.nan"
   ]
  },
  {
   "cell_type": "markdown",
   "metadata": {},
   "source": [
    "# Data exploration"
   ]
  },
  {
   "cell_type": "markdown",
   "metadata": {},
   "source": [
    "## Labels"
   ]
  },
  {
   "cell_type": "code",
   "execution_count": 620,
   "metadata": {},
   "outputs": [],
   "source": [
    "if not IS_DEBUG:\n",
    "    nb_s = len(y_tr[y_tr == 1])\n",
    "    nb_b = len(y_tr) - nb_s\n",
    "    print(\"Signals: {} ({}%)\".format(nb_s, 100 * nb_s / len(x_tr)))\n",
    "    print(\"Backgrounds: {} ({}%)\".format(nb_b, 100 * nb_b / len(x_tr)))\n",
    "    print(\"Ratio signal / background: {}\".format(nb_s / nb_b))\n",
    "\n",
    "    plt.bar([\"Signal\", \"Background\"], [nb_s, nb_b])\n",
    "    plt.xlabel(\"Labels\")\n",
    "    plt.ylabel(\"Count\")\n",
    "    plt.title(\"Labels distribution\")\n",
    "    plt.show()"
   ]
  },
  {
   "cell_type": "markdown",
   "metadata": {},
   "source": [
    "## NAN values"
   ]
  },
  {
   "cell_type": "code",
   "execution_count": 621,
   "metadata": {},
   "outputs": [
    {
     "name": "stdout",
     "output_type": "stream",
     "text": [
      "Nb Columns with > 0.50 nan ratio : 11\n",
      "Columns with > 0.50 nan ratio :\n",
      "['DER_mass_MMC', 'DER_deltaeta_jet_jet', 'DER_mass_jet_jet', 'DER_prodeta_jet_jet', 'DER_lep_eta_centrality', 'PRI_jet_leading_pt', 'PRI_jet_leading_eta', 'PRI_jet_leading_phi', 'PRI_jet_subleading_pt', 'PRI_jet_subleading_eta', 'PRI_jet_subleading_phi']\n"
     ]
    }
   ],
   "source": [
    "MAX_NAN_RATIO = 0.5\n",
    "\n",
    "nb_nan = np.count_nonzero(np.isnan(x_tr), axis=0)\n",
    "nan_ratio = nb_nan / x_tr.shape[1]\n",
    "\n",
    "\n",
    "print(\n",
    "    \"Nb Columns with > {:.2f} nan ratio : {}\".format(\n",
    "        MAX_NAN_RATIO, np.count_nonzero(nan_ratio >= MAX_NAN_RATIO)\n",
    "    )\n",
    ")\n",
    "\n",
    "col_names = []\n",
    "with open(DATA_FOLDER + TRAIN_FILE) as dataset:\n",
    "    col_names = dataset.readline().split(\",\")\n",
    "    nan_col_names = [\n",
    "        col_name for col_idx, col_name in enumerate(col_names[2:]) if nan_ratio[col_idx]\n",
    "    ]\n",
    "\n",
    "    print(\"Columns with > {:.2f} nan ratio :\".format(MAX_NAN_RATIO))\n",
    "    print(nan_col_names)"
   ]
  },
  {
   "cell_type": "markdown",
   "metadata": {},
   "source": [
    "## Histograms"
   ]
  },
  {
   "cell_type": "code",
   "execution_count": 622,
   "metadata": {},
   "outputs": [],
   "source": [
    "if not IS_DEBUG:\n",
    "    fig, axs = plt.subplots(5, 6, sharex=False, sharey=False, figsize=(12, 6))\n",
    "\n",
    "    fig.suptitle(\"Histograms of raw features (excluding NAN values)\")\n",
    "\n",
    "    # don't select nan values\n",
    "    for col_idx in range(len(col_names)-2):\n",
    "        subplt = axs[col_idx%5, math.floor(col_idx/5)]\n",
    "\n",
    "        col = x_tr[:, col_idx]\n",
    "        subplt.hist(col[~np.isnan(col)], bins=100)\n",
    "        subplt.set_title(col_names[col_idx+2])\n",
    "\n",
    "    plt.tight_layout()\n",
    "    plt.show()"
   ]
  },
  {
   "cell_type": "markdown",
   "metadata": {},
   "source": [
    "## In depth feature analysis"
   ]
  },
  {
   "cell_type": "code",
   "execution_count": null,
   "metadata": {},
   "outputs": [],
   "source": []
  },
  {
   "cell_type": "code",
   "execution_count": 623,
   "metadata": {},
   "outputs": [],
   "source": [
    "if not IS_DEBUG:\n",
    "    # select the feature to plot\n",
    "    col_name_to_plot = 'DER_pt_h'\n",
    "    col_idx_to_plot = get_col_idx(col_name_to_plot, col_names)\n",
    "\n",
    "    col_to_plot = x_tr[:, col_idx_to_plot].copy()\n",
    "    print(col_to_plot.shape)\n",
    "\n",
    "    col_to_plot = np.delete(col_to_plot, (7343), axis=0)\n",
    "    print(col_to_plot.shape)\n",
    "\n",
    "    # col_to_plot = col_to_plot[~np.isnan(col_to_plot)]\n",
    "\n",
    "    # remove potential outliers\n",
    "    # col_to_plot = col_to_plot[col_to_plot < 1800]\n",
    "\n",
    "    # plot distribution\n",
    "    fig, axs = plt.subplots(1, 2)\n",
    "    axs[0].hist(col_to_plot[~np.isnan(col_to_plot)], bins=100)\n",
    "    axs[0].set_title(col_name_to_plot)\n",
    "\n",
    "    col_nan = col_to_plot[~np.isnan(col_to_plot)]\n",
    "    axs[1].boxplot(col_to_plot[~np.isnan(col_to_plot)])\n",
    "    axs[1].set_title(col_name_to_plot)\n",
    "\n",
    "    plt.show()\n",
    "\n",
    "    print(\"min: {}, max: {}\".format(col_to_plot.min(), col_to_plot.max()))\n",
    "    print(\"argmin: {}, argmax: {}\".format(col_to_plot.argmin(), col_to_plot.argmax()))\n",
    "\n",
    "    # Outlier : DER_pt_h : 7343, outlier2 = 68116\n",
    "    # DER_pt_tot : 7343 again\n",
    "    # PRI_met : 7343 again\n",
    "    # features_to_log_transform = ['DER_pt_h', 'DER_pt_tot', 'PRI_met', 'PRI_met_sumet]"
   ]
  },
  {
   "cell_type": "markdown",
   "metadata": {},
   "source": [
    "Transform the feature"
   ]
  },
  {
   "cell_type": "code",
   "execution_count": 624,
   "metadata": {},
   "outputs": [],
   "source": [
    "if not IS_DEBUG:\n",
    "    col_to_plot = x_tr[:, col_idx_to_plot].copy()\n",
    "\n",
    "    # clean\n",
    "    # col_to_plot = col_to_plot[~np.isnan(col_to_plot)]\n",
    "    # col_to_plot = col_to_plot[col_to_plot < 1000]\n",
    "\n",
    "    col_to_plot = np.log(col_to_plot+1)\n",
    "    # col_to_plot, _,_  = standardize_training(col_to_plot)\n",
    "\n",
    "    # plot distribution\n",
    "    fig, axs = plt.subplots(1, 2)\n",
    "    axs[0].hist(col_to_plot[~np.isnan(col_to_plot)], bins=100)\n",
    "    axs[0].set_title(col_name_to_plot)\n",
    "\n",
    "    col_nan = col_to_plot[~np.isnan(col_to_plot)]\n",
    "    axs[1].boxplot(col_to_plot[~np.isnan(col_to_plot)])\n",
    "    axs[1].set_title(col_name_to_plot)\n",
    "\n",
    "    plt.show()\n",
    "\n",
    "    print(\"min: {}, max: {}\".format(col_to_plot.min(), col_to_plot.max()))\n",
    "    print(\"argmin: {}, argmax: {}\".format(col_to_plot.argmin(), col_to_plot.argmax()))\n"
   ]
  },
  {
   "cell_type": "markdown",
   "metadata": {},
   "source": [
    "Test if the feature follows a power law"
   ]
  },
  {
   "cell_type": "code",
   "execution_count": 625,
   "metadata": {},
   "outputs": [],
   "source": [
    "# array_cumulative=plt.hist(col_to_plot,bins=100,log=True,cumulative=-1,histtype='step')\n",
    "# plt.title('Histogram of Population (cumulative)')\n",
    "# plt.ylabel('# of cantons (in log scale)')\n",
    "# plt.xlabel('population')\n",
    "# plt.show()\n",
    "\n",
    "# plt.loglog(array_cumulative[1][1:],array_cumulative[0])\n",
    "# plt.title('Histogram of Population (cumulative)')\n",
    "# plt.ylabel('# of cantons (in log scale)')\n",
    "# plt.xlabel('population (in log scale)')\n",
    "# plt.show()\n"
   ]
  },
  {
   "cell_type": "markdown",
   "metadata": {},
   "source": [
    "## Problematic features analysis\n",
    "Some features have been empricially defined as problematic. The problem is that after standardization, those features values will highly differ between the training and the test set, due the the presence of an outliers.\n",
    "The histograms and statistics below allows us to understand which features are problematic.  \n",
    "Using this technique, the sample 7343 has been identified as an outlier."
   ]
  },
  {
   "cell_type": "code",
   "execution_count": 626,
   "metadata": {},
   "outputs": [],
   "source": [
    "if not IS_DEBUG:\n",
    "    fig, axs = plt.subplots(5, 6, sharex=False, sharey=False, figsize=(12, 6))\n",
    "\n",
    "    fig.suptitle(\"Histograms of train features\")\n",
    "\n",
    "    # don't select nan values\n",
    "    for col_idx in range(x_tr.shape[1]):\n",
    "        subplt = axs[col_idx%5, math.floor(col_idx/5)]\n",
    "\n",
    "        col = x_tr[:, col_idx]\n",
    "        subplt.hist(col[~np.isnan(col)], bins=100)\n",
    "        subplt.set_title(col_idx)\n",
    "\n",
    "    plt.tight_layout()\n",
    "    plt.show()\n",
    "\n",
    "    fig, axs = plt.subplots(5, 6, sharex=False, sharey=False, figsize=(12, 6))\n",
    "\n",
    "    fig.suptitle(\"Histograms of test features\")\n",
    "\n",
    "    # don't select nan values\n",
    "    for col_idx in range(x_tr.shape[1]):\n",
    "        subplt = axs[col_idx%5, math.floor(col_idx/5)]\n",
    "\n",
    "        col = x_te[:, col_idx]\n",
    "        subplt.hist(col[~np.isnan(col)], bins=100)\n",
    "        subplt.set_title(col_idx)\n",
    "\n",
    "    plt.tight_layout()\n",
    "    plt.show()"
   ]
  },
  {
   "cell_type": "code",
   "execution_count": 627,
   "metadata": {},
   "outputs": [],
   "source": [
    "if not IS_DEBUG:\n",
    "    problematic_features = 'DER_mass_MMC', 'DER_mass_vis', 'DER_deltaeta_jet_jet', 'DER_prodeta_jet_jet', 'PRI_tau_eta'\n",
    "\n",
    "    for col_name in problematic_features:\n",
    "        col_idx = get_col_idx(col_name, col_names)\n",
    "\n",
    "        fig, axs = plt.subplots(1, 2)\n",
    "\n",
    "        # plot train distribution\n",
    "        col_tr = x_tr[:, col_idx].copy()\n",
    "        col_tr = col_tr[~np.isnan(col_tr)]\n",
    "\n",
    "        axs[0].hist(col_tr, bins=100)\n",
    "        axs[0].set_title(\"Train {}\".format(col_name))\n",
    "\n",
    "        # plot test distribution\n",
    "        col_te = x_te[:, col_idx].copy()\n",
    "        col_te = col_te[~np.isnan(col_te)]\n",
    "\n",
    "        axs[1].hist(col_te, bins=100)\n",
    "        axs[1].set_title(\"Test {}\".format(col_name))\n",
    "\n",
    "        plt.show()\n",
    "\n",
    "        # basic stats\n",
    "        print(\"Train:\")\n",
    "        print(\"min: {}, max: {}\".format(col_tr.min(), col_tr.max()))\n",
    "        print(\"argmin: {}, argmax: {}\".format(col_tr.argmin(), col_tr.argmax()))\n",
    "\n",
    "        print(\"Test:\")\n",
    "        print(\"min: {}, max: {}\".format(col_te.min(), col_te.max()))\n",
    "        print(\"argmin: {}, argmax: {}\".format(col_te.argmin(), col_te.argmax()))\n",
    "\n"
   ]
  },
  {
   "cell_type": "markdown",
   "metadata": {},
   "source": [
    "# Feature engineering / Data cleaning"
   ]
  },
  {
   "cell_type": "markdown",
   "metadata": {},
   "source": [
    "Remove outliers"
   ]
  },
  {
   "cell_type": "code",
   "execution_count": 628,
   "metadata": {},
   "outputs": [],
   "source": [
    "# detected_outliers = [7343]\n",
    "\n",
    "\n",
    "# print(x_tr.shape)\n",
    "\n",
    "# for sample_row in detected_outliers:\n",
    "#     x_tr = np.delete(x_tr, (sample_row), axis=0)\n",
    "#     y_tr = np.delete(y_tr, (sample_row), axis=0)\n",
    "\n",
    "# print(x_tr.shape)"
   ]
  },
  {
   "cell_type": "markdown",
   "metadata": {},
   "source": [
    "Initial range of values"
   ]
  },
  {
   "cell_type": "code",
   "execution_count": 629,
   "metadata": {},
   "outputs": [
    {
     "name": "stdout",
     "output_type": "stream",
     "text": [
      "x_tr range :-18.066 4974.979\n",
      "x_te range :-19.012 4794.827\n"
     ]
    }
   ],
   "source": [
    "print(\"x_tr range :{} {}\".format(np.nanmin(x_tr), np.nanmax(x_tr)))\n",
    "print(\"x_te range :{} {}\".format(np.nanmin(x_te), np.nanmax(x_te)))"
   ]
  },
  {
   "cell_type": "markdown",
   "metadata": {},
   "source": [
    "### Logarithmic feature transformation"
   ]
  },
  {
   "cell_type": "code",
   "execution_count": 630,
   "metadata": {},
   "outputs": [],
   "source": [
    "# TODO : transform the test features too\n",
    "\n",
    "show_transformation = False\n",
    "\n",
    "cols_to_log_transform = ['DER_pt_h', 'DER_pt_tot', 'PRI_met', 'PRI_met_sumet']\n",
    "\n",
    "for col_name in cols_to_log_transform:\n",
    "    col_idx = get_col_idx(col_name, col_names)\n",
    "    x_tr[:, col_idx] = np.log(x_tr[:, col_idx] + 1) # +1 to avoid log(0)\n",
    "    x_te[:, col_idx] = np.log(x_te[:, col_idx] + 1)\n",
    "\n",
    "    if show_transformation:\n",
    "        col_to_plot = x_tr[:, col_idx]\n",
    "        #  plot distribution\n",
    "        fig, axs = plt.subplots(1, 2)\n",
    "        axs[0].hist(col_to_plot[~np.isnan(col_to_plot)], bins=20)\n",
    "        axs[0].set_title(col_name)\n",
    "\n",
    "        axs[1].boxplot(col_to_plot[~np.isnan(col_to_plot)])\n",
    "        axs[1].set_title(col_name)\n",
    "\n",
    "        plt.show()"
   ]
  },
  {
   "cell_type": "markdown",
   "metadata": {},
   "source": [
    "### Finding degree features and handling them"
   ]
  },
  {
   "cell_type": "code",
   "execution_count": 631,
   "metadata": {},
   "outputs": [],
   "source": [
    "# IDs degrees columns\n",
    "# IDs_degrees = np.array([17, 20, 22, 27, 30])\n",
    "\n",
    "# x_tr, x_te = handle_degrees(IDs_degrees,x_tr,x_te)\n",
    "# Find degree features and expand them\n",
    "\n"
   ]
  },
  {
   "cell_type": "markdown",
   "metadata": {},
   "source": [
    "Basic transformations\n",
    "- Remove features which contains too much NAN values, because they don't contain ennough information\n",
    "- Standardize training df\n",
    "- Replace missing values"
   ]
  },
  {
   "cell_type": "code",
   "execution_count": 632,
   "metadata": {},
   "outputs": [
    {
     "name": "stdout",
     "output_type": "stream",
     "text": [
      "Before transformation:\n",
      "x_tr shape : (250000, 30)\n",
      "x_te shape : (568238, 30)\n",
      "x_tr range :-18.066 4974.979\n",
      "x_te range :-19.012 4794.827\n"
     ]
    },
    {
     "data": {
      "image/png": "[encoded data removed]",
      "text/plain": [
       "<Figure size 864x432 with 30 Axes>"
      ]
     },
     "metadata": {
      "needs_background": "light"
     },
     "output_type": "display_data"
    },
    {
     "name": "stdout",
     "output_type": "stream",
     "text": [
      "Outliers < q1 : (array([     4,     39,     49, ..., 249927, 249933, 249980], dtype=int64), array([14, 14, 14, ..., 14, 14, 14], dtype=int64)),7845\n",
      "Outliers > q3 : (array([     4,     39,     49, ..., 249927, 249933, 249980], dtype=int64), array([14, 14, 14, ..., 14, 14, 14], dtype=int64)),7845\n",
      "Outliers < q1 : (array([    51,     55,     80, ..., 568209, 568209, 568213], dtype=int64), array([14, 16, 16, ...,  2, 16,  2], dtype=int64)),18161\n",
      "Outliers > q3 : (array([    51,     55,     80, ..., 568209, 568209, 568213], dtype=int64), array([14, 16, 16, ...,  2, 16,  2], dtype=int64)),18161\n"
     ]
    },
    {
     "data": {
      "image/png": "[encoded data removed]",
      "text/plain": [
       "<Figure size 864x432 with 30 Axes>"
      ]
     },
     "metadata": {
      "needs_background": "light"
     },
     "output_type": "display_data"
    },
    {
     "name": "stdout",
     "output_type": "stream",
     "text": [
      "After transformation:\n",
      "x_tr shape : (250000, 22)\n",
      "x_te shape : (568238, 22)\n",
      "x_tr range :-2.0760373982511515 3.0\n",
      "x_te range :-2.0734828021024287 3.0\n"
     ]
    }
   ],
   "source": [
    "print(\"Before transformation:\")\n",
    "print(\"x_tr shape : {}\".format(x_tr.shape))\n",
    "print(\"x_te shape : {}\".format(x_te.shape))\n",
    "print(\"x_tr range :{} {}\".format(np.nanmin(x_tr), np.nanmax(x_tr)))\n",
    "print(\"x_te range :{} {}\".format(np.nanmin(x_te), np.nanmax(x_te)))\n",
    "\n",
    "# Remove columns with too much NAN\n",
    "nb_nan = np.count_nonzero(np.isnan(x_tr), axis=0)\n",
    "nan_ratio = nb_nan / x_tr.shape[1]\n",
    "\n",
    "x_tr = x_tr[:, nan_ratio <= MAX_NAN_RATIO]\n",
    "x_te = x_te[:, nan_ratio <= MAX_NAN_RATIO]\n",
    "fig, axs = plt.subplots(5, 6, sharex=False, sharey=False, figsize=(12, 6))\n",
    "\n",
    "fig.suptitle(\"Histograms of train features\")\n",
    "\n",
    "# don't select nan values\n",
    "for col_idx in range(x_tr.shape[1]):\n",
    "    subplt = axs[col_idx%5, math.floor(col_idx/5)]\n",
    "\n",
    "    col = x_tr[:, col_idx]\n",
    "    subplt.hist(col[~np.isnan(col)], bins=100)\n",
    "    subplt.set_title(col_idx)\n",
    "\n",
    "plt.tight_layout()\n",
    "plt.show()\n",
    "\n",
    "# Standardize before replacing missing values\n",
    "# _, mean_x, std_x = standardize_training(x_tr, missing_values=True) \n",
    "# TODO : update it to use the traing values\n",
    "# x_te = standardize_test(x_te, mean_x, std_x)\n",
    "#x_te, _, _ = standardize_training(x_te, missing_values=True)\n",
    "\n",
    "# print(\"x_tr range :{} {}\".format(np.nanmin(x_tr), np.nanmax(x_tr)))\n",
    "# print(\"x_te range :{} {}\".format(np.nanmin(x_te), np.nanmax(x_te)))\n",
    "\n",
    "mean_x = np.nanmean(x_tr, axis=0)\n",
    "# Replace missing data by the mean\n",
    "x_tr = replace_nan_by_means(x_tr, mean_data=mean_x)\n",
    "x_te = replace_nan_by_means(x_te, mean_data=mean_x)\n",
    "\n",
    "assert(x_tr[np.isnan(x_tr)].shape[0] == 0)\n",
    "assert(x_te[np.isnan(x_te)].shape[0] == 0)\n",
    "\n",
    "IDs_degrees = np.array([10,13,15])\n",
    "x_tr = transform(x_tr,IDs_degrees)\n",
    "x_te = transform(x_te,IDs_degrees)\n",
    "\n",
    "fig, axs = plt.subplots(5, 6, sharex=False, sharey=False, figsize=(12, 6))\n",
    "\n",
    "fig.suptitle(\"Histograms of train features\")\n",
    "\n",
    "# don't select nan values\n",
    "for col_idx in range(x_tr.shape[1]):\n",
    "    subplt = axs[col_idx%5, math.floor(col_idx/5)]\n",
    "\n",
    "    col = x_tr[:, col_idx]\n",
    "    subplt.hist(col[~np.isnan(col)], bins=100)\n",
    "    subplt.set_title(col_idx)\n",
    "\n",
    "plt.tight_layout()\n",
    "plt.show()\n",
    "print(\"After transformation:\")\n",
    "print(\"x_tr shape : {}\".format(x_tr.shape))\n",
    "print(\"x_te shape : {}\".format(x_te.shape))\n",
    "print(\"x_tr range :{} {}\".format(np.nanmin(x_tr), np.nanmax(x_tr)))\n",
    "print(\"x_te range :{} {}\".format(np.nanmin(x_te), np.nanmax(x_te)))\n",
    "# TODO : the errors probably comes from huge values in the test set"
   ]
  },
  {
   "cell_type": "markdown",
   "metadata": {},
   "source": [
    "## Analyse test set :"
   ]
  },
  {
   "cell_type": "code",
   "execution_count": null,
   "metadata": {},
   "outputs": [],
   "source": []
  },
  {
   "cell_type": "markdown",
   "metadata": {},
   "source": [
    "## Model fitting"
   ]
  },
  {
   "cell_type": "code",
   "execution_count": 633,
   "metadata": {},
   "outputs": [
    {
     "name": "stdout",
     "output_type": "stream",
     "text": [
      "Training loss : 0.09596157781325892\n"
     ]
    }
   ],
   "source": [
    "# Add offset term to x\n",
    "xt_tr = add_offset(x_tr)\n",
    "xt_te = add_offset(x_te)\n",
    "\n",
    "# Fit a model\n",
    "w, loss_tr = least_squares(y_tr, x_tr)\n",
    "\n",
    "print(\"Training loss : {}\".format(loss_tr))"
   ]
  },
  {
   "cell_type": "markdown",
   "metadata": {},
   "source": [
    "# Model fitting and Predictions"
   ]
  },
  {
   "cell_type": "code",
   "execution_count": 634,
   "metadata": {},
   "outputs": [],
   "source": [
    "# w_init = np.zeros((xt_tr.shape[1], 1))\n",
    "# logistic_regression_penalized_gradient_descent_demo(y_tr, xt_tr, w_init, 10000, 0.0005, 0.5)"
   ]
  },
  {
   "cell_type": "markdown",
   "metadata": {},
   "source": [
    "## Cross-validation"
   ]
  },
  {
   "cell_type": "code",
   "execution_count": 635,
   "metadata": {},
   "outputs": [],
   "source": [
    "from implementations import *\n",
    "from helpers import *\n",
    "\n",
    "# w_init, _ = least_squares(y_tr, xt_tr)\n",
    "# mean_loss_tr, mean_loss_te = run_cross_validation(y_tr, xt_tr, 2, w_init, 5, 2e-5,35e-5,0,2000,10,10)\n",
    "# print(\"Mean training mse: {}\".format(mean_loss_tr))\n",
    "# print(\"Mean test mse: {}\".format(mean_loss_te))\n",
    "\n",
    "# 2000  1e-05   = 0.69310\n",
    "# 722   1e-4    = 0.69307\n",
    "# 444   15e-05  = 0.69285\n",
    "# 222   25e-05  = 0.69265\n",
    "# 222   35e-05  = 0.69242\n",
    "\n",
    "\n"
   ]
  },
  {
   "cell_type": "markdown",
   "metadata": {},
   "source": [
    "## Predictions"
   ]
  },
  {
   "cell_type": "markdown",
   "metadata": {},
   "source": [
    "### Predictions with regression and threshold"
   ]
  },
  {
   "cell_type": "code",
   "execution_count": 636,
   "metadata": {},
   "outputs": [],
   "source": [
    "# # Make predictions from model's weight and set treshold for signal & background\n",
    "# y_predict = x_te@w\n",
    "# prediction_threshold = y_te.mean()"
   ]
  },
  {
   "cell_type": "code",
   "execution_count": 637,
   "metadata": {},
   "outputs": [],
   "source": [
    "# prediction_threshold = 0\n",
    "# print(y_predict.shape)\n",
    "# for i in range(len(y_predict)) :\n",
    "#     if y_predict[i] <= prediction_threshold :\n",
    "#         y_predict[i] = 1\n",
    "#     else :\n",
    "#         y_predict[i] = -1\n",
    "# print(y_predict.shape)\n",
    "# y_test, input_test, ids_test = load_csv_data('./data/test.csv',False)\n",
    "# create_csv_submission(ids_test,y_predict,\"prediction test least square + feature engineering\")"
   ]
  },
  {
   "cell_type": "markdown",
   "metadata": {},
   "source": [
    "### Predictions with log_reg"
   ]
  },
  {
   "cell_type": "code",
   "execution_count": 681,
   "metadata": {},
   "outputs": [
    {
     "name": "stdout",
     "output_type": "stream",
     "text": [
      "ok\n",
      "ok\n",
      "ok\n",
      "ok\n",
      "0.6898952732296656\n"
     ]
    }
   ],
   "source": [
    "# logistic_regression(y, tx, initial_w, max_iters, gamma)\n",
    "# Fit the model\n",
    "\n",
    "id = {}\n",
    "y_pred = {}\n",
    "for i in range(0,4):\n",
    "    y_r,x_r = get_split_by_jet_data(y_tr,xt_tr,i)\n",
    "    y_e,x_e = get_split_by_jet_data(y_te,xt_te,i)\n",
    "    w_init = np.linalg.lstsq(x_r.T @ x_r, x_r.T @ y_r,rcond=None)[0]\n",
    "    w, loss = reg_logistic_regression(y_r, x_r, 100, w_init, 1000, 50e-05)\n",
    "    y_pred[i] = predict(w,x_e)\n",
    "    id[i] = y_e\n",
    "\n",
    "y_predict = np.concatenate((y_pred[0],y_pred[1],y_pred[2],y_pred[3]),axis=0)\n",
    "ids_test = np.concatenate((id[0],id[1],id[2],id[3]),axis=0)\n",
    "\n",
    "\n",
    "print(loss)"
   ]
  },
  {
   "cell_type": "code",
   "execution_count": null,
   "metadata": {},
   "outputs": [],
   "source": []
  },
  {
   "cell_type": "code",
   "execution_count": 682,
   "metadata": {},
   "outputs": [
    {
     "name": "stdout",
     "output_type": "stream",
     "text": [
      "111998\n",
      "456240\n",
      "568238\n"
     ]
    }
   ],
   "source": [
    "# prediction_threshold = 0.5\n",
    "# for i in range(len(y_predict)):\n",
    "#     if y_predict[i] >= prediction_threshold:\n",
    "#         y_predict[i] = 1\n",
    "#     else:\n",
    "#         y_predict[i] = -1\n",
    "\n",
    "print(len(y_predict[y_predict == 1]))\n",
    "print(len(y_predict[y_predict == -1]))\n",
    "print(len(y_predict))\n",
    "# 221 337\n",
    "# 0.69306 -> 294338\n",
    "# 0.69292 -> 228845\n",
    "# 0.69292 -> 228803\n",
    "# 0.69269 -> 221926\n",
    "# 0.69225 -> 221928\n",
    "# 0.69225 -> 221621\n",
    "# 0.69225 -> 221149\n",
    "# 0.69269 -> 221119\n",
    "\n"
   ]
  },
  {
   "cell_type": "code",
   "execution_count": 683,
   "metadata": {},
   "outputs": [],
   "source": [
    "#y_test, input_test, ids_test = load_csv_data(\"./data/test.csv\", False)\n",
    "create_csv_submission(\n",
    "    ids_test, y_predict, \"prediction test least square + feature engineering\"\n",
    ")"
   ]
  }
 ],
 "metadata": {
  "kernelspec": {
   "display_name": "Python 3.9.1 64-bit",
   "language": "python",
   "name": "python3"
  },
  "language_info": {
   "codemirror_mode": {
    "name": "ipython",
    "version": 3
   },
   "file_extension": ".py",
   "mimetype": "text/x-python",
   "name": "python",
   "nbconvert_exporter": "python",
   "pygments_lexer": "ipython3",
   "version": "3.9.1"
  },
  "orig_nbformat": 4,
  "vscode": {
   "interpreter": {
    "hash": "81794d4967e6c3204c66dcd87b604927b115b27c00565d3d43f05ba2f3a2cb0d"
   }
  }
 },
 "nbformat": 4,
 "nbformat_minor": 2
}
